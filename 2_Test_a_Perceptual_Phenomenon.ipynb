{
 "cells": [
  {
   "cell_type": "markdown",
   "metadata": {},
   "source": [
    "# Statistics: The Science of Decisions "
   ]
  },
  {
   "cell_type": "markdown",
   "metadata": {},
   "source": [
    "## Background Information\n",
    "\n",
    "In a **Stroop task**, participants are presented with a list of words, with each word displayed in a color of ink. The participant’s task is to say out loud the *color of the ink* in which the word is printed. The task has two conditions: a congruent words condition, and an incongruent words condition. In the *congruent words* condition, the words being displayed are color words whose names match the colors in which they are printed: for example <span style=\"color:red\">RED</span>, <span style=\"color:blue\">BLUE</span>. In the *incongruent words* condition, the words displayed are color words whose names do not match the colors in which they are printed: for example <span style=\"color:green\">PURPLE</span>, <span style=\"color:purple\">ORANGE</span>. In each case, we measure the time it takes to name the ink colors in equally-sized lists. Each participant will go through and record a time from each condition."
   ]
  },
  {
   "cell_type": "markdown",
   "metadata": {},
   "source": [
    "## Questions For Investigation\n",
    "\n",
    "As a general note, be sure to keep a record of any resources that you use or refer to in the creation of your project. You will need to report your sources as part of the project submission.\n",
    "\n",
    "**1. What is our independent variable? What is our dependent variable?**"
   ]
  },
  {
   "cell_type": "markdown",
   "metadata": {},
   "source": [
    "Ans 1:\n",
    "\n",
    "    The independent variable is the two conditions, a congruent words condition and an inconfruent words condition.\n",
    "    The dependent variable is the time it takes to name the ink colors in equally-sized list."
   ]
  },
  {
   "cell_type": "markdown",
   "metadata": {},
   "source": [
    "**2. What is an appropriate set of hypotheses for this task? What kind of statistical test do you expect to perform? Justify your choices.**\n",
    "Now it’s your chance to try out the Stroop task for yourself. Go to [this link](https://faculty.washington.edu/chudler/java/ready.html), which has a Java-based applet for performing the Stroop task. Record the times that you received on the task (you do not need to submit your times to the site.) Now, download [this dataset](https://drive.google.com/file/d/0B9Yf01UaIbUgQXpYb2NhZ29yX1U/view) which contains results from a number of participants in the task. Each row of the dataset contains the performance for one participant, with the first number their results on the congruent task and the second number their performance on the incongruent task.\n"
   ]
  },
  {
   "cell_type": "markdown",
   "metadata": {},
   "source": [
    "Ans 2a:\n",
    "\n",
    "**Null Hypothesis H0**: There is no difference in population means of response time under incongruent and congruent scenarios, which can be mathematically represented as\n",
    "$$ H_0: μ_C = μ_I $$\n",
    "**Alternative Hypothesis H1**: The population means of the response time under incongruent and congruent scenarios are different, which can be mathematically represented as\n",
    "$$ H_0: μ_C \\ne μ_I $$\n",
    "\n",
    "\n",
    "μ_C: the population mean under the congruent scenario\n",
    "\n",
    "μ_I: the population mean upder the incongruent scenario\n"
   ]
  },
  {
   "cell_type": "markdown",
   "metadata": {},
   "source": [
    "Ans 2b:\n",
    "\n",
    "Use **paired t-test** for this statistical test because we don't have the population means. Using t-test when we have sample means and want to infer the population mean difference from the sample mean difference.\n",
    "\n",
    "The dataset contains the performance for each participant on both congruent and incongruent words, which means the samples are dependent samples and the individual differences are controlled. Hence, we can use paired t-test to test the time differences. \n",
    "\n",
    "According to the three questions you asked:\n",
    "\n",
    "1 - How many samples do we have?\n",
    "    \n",
    "    We only have 24 samples. T-test is useful when we have less than 30 samples.\n",
    "\n",
    "2 - Do we know the population standard deviation?\n",
    "    \n",
    "    When we do not know the population standard deviation, we cannot use Z-test. \n",
    "\n",
    "3 - What do we know about the distribution?\n",
    "    \n",
    "    The distributions seem to be normally distributed, but the sample size is too small to really determine the distribution.\n"
   ]
  },
  {
   "cell_type": "markdown",
   "metadata": {},
   "source": [
    "**3. Report some descriptive statistics regarding this dataset.** Include at least one measure of central tendency and at least one measure of variability.\n",
    "\n",
    "Ans 3:\n",
    "\n",
    "The central tendency can be measured by the mean of the dataset. \n",
    "       \n",
    "       The mean of the congruent words: 14.05\n",
    "       The mean of the incongruent words: 22.02\n",
    "       The mean of the difference between congruent words and incongruent words: 7.97\n",
    "\n",
    "The variability can be measured by the standard deviation of the dataset.\n",
    "    \n",
    "       The standard deviation of the congruent words: 3.56\n",
    "       The standard deviation of the incongruent words: 4.80\n",
    "       The standard deviation of the difference between congruent words and incongruent words: 4.86\n",
    "\n"
   ]
  },
  {
   "cell_type": "markdown",
   "metadata": {},
   "source": [
    "**4. Provide one or two visualizations that show the distribution of the sample data.** Write one or two sentences noting what you observe about the plot or plots.\n",
    "\n",
    "Ans 4:"
   ]
  },
  {
   "cell_type": "code",
   "execution_count": 15,
   "metadata": {
    "collapsed": true
   },
   "outputs": [],
   "source": [
    "import numpy as np\n",
    "import pandas as pd\n",
    "from scipy import stats, integrate\n",
    "import matplotlib.pyplot as plt\n",
    "\n",
    "import seaborn as sns\n",
    "sns.set(color_codes=True)\n",
    "\n",
    "%matplotlib inline"
   ]
  },
  {
   "cell_type": "code",
   "execution_count": 23,
   "metadata": {
    "collapsed": false
   },
   "outputs": [],
   "source": [
    "congruent = np.array([12.079, 16.791, 9.564, 8.63, 14.669, 12.238, 14.692, 8.987, 9.401, 14.48, 22.328, 15.298, \n",
    "             15.073, 16.929, 18.2, 12.13, 18.495, 10.639, 11.344, 12.369, 12.944, 14.233, 19.71, 16.004])\n",
    "incongruent = np.array([19.278, 18.741, 21.214, 15.687, 22.803, 20.878, 24.572, 17.394, 20.762, 26.282, 24.524, 18.644,\n",
    "                17.51, 20.33, 35.255, 22.158, 25.139, 20.429, 17.425, 34.288, 23.894, 17.96, 22.058, 21.157])\n"
   ]
  },
  {
   "cell_type": "code",
   "execution_count": 28,
   "metadata": {
    "collapsed": false
   },
   "outputs": [
    {
     "data": {
      "text/html": [
       "<div>\n",
       "<table border=\"1\" class=\"dataframe\">\n",
       "  <thead>\n",
       "    <tr style=\"text-align: right;\">\n",
       "      <th></th>\n",
       "      <th>congruent</th>\n",
       "      <th>incongruent</th>\n",
       "    </tr>\n",
       "  </thead>\n",
       "  <tbody>\n",
       "    <tr>\n",
       "      <th>0</th>\n",
       "      <td>12.079</td>\n",
       "      <td>19.278</td>\n",
       "    </tr>\n",
       "    <tr>\n",
       "      <th>1</th>\n",
       "      <td>16.791</td>\n",
       "      <td>18.741</td>\n",
       "    </tr>\n",
       "    <tr>\n",
       "      <th>2</th>\n",
       "      <td>9.564</td>\n",
       "      <td>21.214</td>\n",
       "    </tr>\n",
       "    <tr>\n",
       "      <th>3</th>\n",
       "      <td>8.630</td>\n",
       "      <td>15.687</td>\n",
       "    </tr>\n",
       "    <tr>\n",
       "      <th>4</th>\n",
       "      <td>14.669</td>\n",
       "      <td>22.803</td>\n",
       "    </tr>\n",
       "  </tbody>\n",
       "</table>\n",
       "</div>"
      ],
      "text/plain": [
       "   congruent  incongruent\n",
       "0     12.079       19.278\n",
       "1     16.791       18.741\n",
       "2      9.564       21.214\n",
       "3      8.630       15.687\n",
       "4     14.669       22.803"
      ]
     },
     "execution_count": 28,
     "metadata": {},
     "output_type": "execute_result"
    }
   ],
   "source": [
    "df = pd.DataFrame({\"congruent\": congruent, \"incongruent\": incongruent})\n",
    "df.head()"
   ]
  },
  {
   "cell_type": "code",
   "execution_count": 27,
   "metadata": {
    "collapsed": false
   },
   "outputs": [
    {
     "data": {
      "image/png": "[encoded data removed]",
      "text/plain": [
       "<matplotlib.figure.Figure at 0x10ebd7518>"
      ]
     },
     "metadata": {},
     "output_type": "display_data"
    }
   ],
   "source": [
    "sns.distplot(congruent, bins=10, kde=False, fit=stats.norm, label=\"congruent\")\n",
    "sns.distplot(incongruent, bins=10, kde=False, fit=stats.norm, label=\"incongruent\")\n",
    "plt.legend();"
   ]
  },
  {
   "cell_type": "markdown",
   "metadata": {},
   "source": [
    "The plot above shows the distributions for each dataset. We can see that the incongruent task tends to take a longer time than congruent task."
   ]
  },
  {
   "cell_type": "code",
   "execution_count": 33,
   "metadata": {
    "collapsed": false
   },
   "outputs": [
    {
     "name": "stdout",
     "output_type": "stream",
     "text": [
      "Correlation:  0.351819527232\n"
     ]
    },
    {
     "data": {
      "image/png": "[encoded data removed]",
      "text/plain": [
       "<matplotlib.figure.Figure at 0x10ea7b860>"
      ]
     },
     "metadata": {},
     "output_type": "display_data"
    }
   ],
   "source": [
    "ax = sns.regplot(x=\"congruent\", y=\"incongruent\", data=df)\n",
    "print(\"Correlation: \", np.corrcoef(congruent, incongruent)[0, 1])"
   ]
  },
  {
   "cell_type": "markdown",
   "metadata": {},
   "source": [
    "The above plot show the relationship between the time of congruent task and incongruent task. From the correlation coefficient we can see that the time of two tasks has moderate correlation."
   ]
  },
  {
   "cell_type": "markdown",
   "metadata": {},
   "source": [
    "**5. Now, perform the statistical test and report your results.** What is your confidence level and your critical statistic value? Do you reject the null hypothesis or fail to reject it? Come to a conclusion in terms of the experiment task. Did the results match up with your expectations?\n",
    "\n",
    "Ans 5:"
   ]
  },
  {
   "cell_type": "code",
   "execution_count": 34,
   "metadata": {
    "collapsed": false
   },
   "outputs": [
    {
     "data": {
      "text/plain": [
       "Ttest_relResult(statistic=-8.0207069441099588, pvalue=4.1030005857111556e-08)"
      ]
     },
     "execution_count": 34,
     "metadata": {},
     "output_type": "execute_result"
    }
   ],
   "source": [
    "stats.ttest_rel(congruent, incongruent)"
   ]
  },
  {
   "cell_type": "markdown",
   "metadata": {},
   "source": [
    "My confidence level is 0.05 and the critical value is +/- 1.714.\n",
    "\n",
    "Reject the null hypothesis.\n",
    "\n",
    "**Conclusion**: The time of incongruent task is significant bigger than the time of congruent task. The result matched up with my expectations because we can see clearly from the overlapping histograms that the time of incongruent taks is higher than the congruent task. Using the paired to test statistically confirmed my expectations.\n",
    "\n",
    "*Note*: the paired t-test function from scipy presents the results for **two-sided**; however, my hypothesis should be tested using **one-sided**. Hence, use the fact that the t-distribution is symmetric at zero, we can divide the p-value by 2 to get the p-value for one-sided paired t-test. The p-value ~ 2.0515e-08, which is still very small."
   ]
  },
  {
   "cell_type": "markdown",
   "metadata": {},
   "source": [
    "**6. Optional: What do you think is responsible for the effects observed? Can you think of an alternative or similar task that would result in a similar effect?** Some research about the problem will be helpful for thinking about these two questions!"
   ]
  },
  {
   "cell_type": "markdown",
   "metadata": {},
   "source": [
    "* *Processing speed*: this theory suggests there is a lag in the brain's ability to recognize the color of the word since the brain reads words faster than it recognizes colors.[14] This is based on the idea that word processing is significantly faster than color processing.\n",
    "\n",
    "* *Selective attention*: the Selective Attention Theory that color recognition as opposed to reading a word, requires more attention, the brain needs to use more attention to recognize a color than to word encoding, so it takes a little longer.\n",
    "\n",
    "* *Automaticity*: it suggests that since recognizing colors is not an \"automatic process\" there is hesitancy to respond; whereas, the brain automatically understands the meaning of words as a result of habitual reading. \n",
    "\n",
    "* *Parallel distributed processing*: this theory suggests that as the brain analyzes information, different and specific pathways are developed for different tasks. Some pathways, such as reading, are stronger than others, therefore, it is the strength of the pathway and not the speed of the pathway that is important."
   ]
  },
  {
   "cell_type": "markdown",
   "metadata": {},
   "source": [
    "    Show pictures with different wrong titles. For example, show a dog picture with a title of \"Cat\"."
   ]
  }
 ],
 "metadata": {
  "kernelspec": {
   "display_name": "Python [default]",
   "language": "python",
   "name": "python3"
  },
  "language_info": {
   "codemirror_mode": {
    "name": "ipython",
    "version": 3
   },
   "file_extension": ".py",
   "mimetype": "text/x-python",
   "name": "python",
   "nbconvert_exporter": "python",
   "pygments_lexer": "ipython3",
   "version": "3.6.0"
  }
 },
 "nbformat": 4,
 "nbformat_minor": 2
}
