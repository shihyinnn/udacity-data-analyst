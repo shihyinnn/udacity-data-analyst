{
 "cells": [
  {
   "cell_type": "markdown",
   "metadata": {},
   "source": [
    "# Investigate a Dataset: Titanic"
   ]
  },
  {
   "cell_type": "markdown",
   "metadata": {},
   "source": [
    "This notebook is a project from [Udacity's Data Analyst Nanodegree](https://www.udacity.com/course/data-analyst-nanodegree--nd002). The notebook uses a [7-stage data science solutions workflow](https://leanpub.com/data-science-solutions) to investigate, analyze, and report [the Titanic dataset from Kaggle](https://www.kaggle.com/c/titanic)."
   ]
  },
  {
   "cell_type": "markdown",
   "metadata": {},
   "source": [
    "## Project workflow\n",
    "\n",
    "1. Question or problem definition.\n",
    "2. Acquire training and testing data.\n",
    "3. Wrangle, prepare, cleanse the data.\n",
    "4. Analyze, identify patterns, and explore the data.\n",
    "5. Model, predict and solve the problem.\n",
    "6. Visualize, report, and present the problem solving steps and final solution.\n",
    "7. Supply or submit the results.\n"
   ]
  },
  {
   "cell_type": "markdown",
   "metadata": {},
   "source": [
    "## 1. Question and problem definition\n",
    "\n",
    "    What factors made people more likely to survive?"
   ]
  },
  {
   "cell_type": "markdown",
   "metadata": {},
   "source": [
    "## 2.  Acquire training and testing data\n",
    "\n",
    "Here I use the CSV files from the Kaggle website."
   ]
  },
  {
   "cell_type": "code",
   "execution_count": 1,
   "metadata": {
    "collapsed": true
   },
   "outputs": [],
   "source": [
    "import pandas as pd\n",
    "import numpy as np\n",
    "import matplotlib.pyplot as plt\n",
    "import seaborn as sns\n",
    "from sklearn.model_selection import train_test_split\n",
    "from sklearn.model_selection import StratifiedKFold, cross_val_score\n",
    "\n",
    "%matplotlib inline\n",
    "%config InlineBackend.figure_format = 'retina'"
   ]
  },
  {
   "cell_type": "code",
   "execution_count": 2,
   "metadata": {},
   "outputs": [
    {
     "data": {
      "text/html": [
       "<div>\n",
       "<style>\n",
       "    .dataframe thead tr:only-child th {\n",
       "        text-align: right;\n",
       "    }\n",
       "\n",
       "    .dataframe thead th {\n",
       "        text-align: left;\n",
       "    }\n",
       "\n",
       "    .dataframe tbody tr th {\n",
       "        vertical-align: top;\n",
       "    }\n",
       "</style>\n",
       "<table border=\"1\" class=\"dataframe\">\n",
       "  <thead>\n",
       "    <tr style=\"text-align: right;\">\n",
       "      <th></th>\n",
       "      <th>PassengerId</th>\n",
       "      <th>Survived</th>\n",
       "      <th>Pclass</th>\n",
       "      <th>Name</th>\n",
       "      <th>Sex</th>\n",
       "      <th>Age</th>\n",
       "      <th>SibSp</th>\n",
       "      <th>Parch</th>\n",
       "      <th>Ticket</th>\n",
       "      <th>Fare</th>\n",
       "      <th>Cabin</th>\n",
       "      <th>Embarked</th>\n",
       "    </tr>\n",
       "  </thead>\n",
       "  <tbody>\n",
       "    <tr>\n",
       "      <th>0</th>\n",
       "      <td>1</td>\n",
       "      <td>0</td>\n",
       "      <td>3</td>\n",
       "      <td>Braund, Mr. Owen Harris</td>\n",
       "      <td>male</td>\n",
       "      <td>22.0</td>\n",
       "      <td>1</td>\n",
       "      <td>0</td>\n",
       "      <td>A/5 21171</td>\n",
       "      <td>7.2500</td>\n",
       "      <td>NaN</td>\n",
       "      <td>S</td>\n",
       "    </tr>\n",
       "    <tr>\n",
       "      <th>1</th>\n",
       "      <td>2</td>\n",
       "      <td>1</td>\n",
       "      <td>1</td>\n",
       "      <td>Cumings, Mrs. John Bradley (Florence Briggs Th...</td>\n",
       "      <td>female</td>\n",
       "      <td>38.0</td>\n",
       "      <td>1</td>\n",
       "      <td>0</td>\n",
       "      <td>PC 17599</td>\n",
       "      <td>71.2833</td>\n",
       "      <td>C85</td>\n",
       "      <td>C</td>\n",
       "    </tr>\n",
       "    <tr>\n",
       "      <th>2</th>\n",
       "      <td>3</td>\n",
       "      <td>1</td>\n",
       "      <td>3</td>\n",
       "      <td>Heikkinen, Miss. Laina</td>\n",
       "      <td>female</td>\n",
       "      <td>26.0</td>\n",
       "      <td>0</td>\n",
       "      <td>0</td>\n",
       "      <td>STON/O2. 3101282</td>\n",
       "      <td>7.9250</td>\n",
       "      <td>NaN</td>\n",
       "      <td>S</td>\n",
       "    </tr>\n",
       "    <tr>\n",
       "      <th>3</th>\n",
       "      <td>4</td>\n",
       "      <td>1</td>\n",
       "      <td>1</td>\n",
       "      <td>Futrelle, Mrs. Jacques Heath (Lily May Peel)</td>\n",
       "      <td>female</td>\n",
       "      <td>35.0</td>\n",
       "      <td>1</td>\n",
       "      <td>0</td>\n",
       "      <td>113803</td>\n",
       "      <td>53.1000</td>\n",
       "      <td>C123</td>\n",
       "      <td>S</td>\n",
       "    </tr>\n",
       "    <tr>\n",
       "      <th>4</th>\n",
       "      <td>5</td>\n",
       "      <td>0</td>\n",
       "      <td>3</td>\n",
       "      <td>Allen, Mr. William Henry</td>\n",
       "      <td>male</td>\n",
       "      <td>35.0</td>\n",
       "      <td>0</td>\n",
       "      <td>0</td>\n",
       "      <td>373450</td>\n",
       "      <td>8.0500</td>\n",
       "      <td>NaN</td>\n",
       "      <td>S</td>\n",
       "    </tr>\n",
       "  </tbody>\n",
       "</table>\n",
       "</div>"
      ],
      "text/plain": [
       "   PassengerId  Survived  Pclass  \\\n",
       "0            1         0       3   \n",
       "1            2         1       1   \n",
       "2            3         1       3   \n",
       "3            4         1       1   \n",
       "4            5         0       3   \n",
       "\n",
       "                                                Name     Sex   Age  SibSp  \\\n",
       "0                            Braund, Mr. Owen Harris    male  22.0      1   \n",
       "1  Cumings, Mrs. John Bradley (Florence Briggs Th...  female  38.0      1   \n",
       "2                             Heikkinen, Miss. Laina  female  26.0      0   \n",
       "3       Futrelle, Mrs. Jacques Heath (Lily May Peel)  female  35.0      1   \n",
       "4                           Allen, Mr. William Henry    male  35.0      0   \n",
       "\n",
       "   Parch            Ticket     Fare Cabin Embarked  \n",
       "0      0         A/5 21171   7.2500   NaN        S  \n",
       "1      0          PC 17599  71.2833   C85        C  \n",
       "2      0  STON/O2. 3101282   7.9250   NaN        S  \n",
       "3      0            113803  53.1000  C123        S  \n",
       "4      0            373450   8.0500   NaN        S  "
      ]
     },
     "execution_count": 2,
     "metadata": {},
     "output_type": "execute_result"
    }
   ],
   "source": [
    "train_df = pd.read_csv(\"train.csv\")\n",
    "train_df.head()"
   ]
  },
  {
   "cell_type": "code",
   "execution_count": 3,
   "metadata": {},
   "outputs": [
    {
     "data": {
      "text/html": [
       "<div>\n",
       "<style>\n",
       "    .dataframe thead tr:only-child th {\n",
       "        text-align: right;\n",
       "    }\n",
       "\n",
       "    .dataframe thead th {\n",
       "        text-align: left;\n",
       "    }\n",
       "\n",
       "    .dataframe tbody tr th {\n",
       "        vertical-align: top;\n",
       "    }\n",
       "</style>\n",
       "<table border=\"1\" class=\"dataframe\">\n",
       "  <thead>\n",
       "    <tr style=\"text-align: right;\">\n",
       "      <th></th>\n",
       "      <th>PassengerId</th>\n",
       "      <th>Pclass</th>\n",
       "      <th>Name</th>\n",
       "      <th>Sex</th>\n",
       "      <th>Age</th>\n",
       "      <th>SibSp</th>\n",
       "      <th>Parch</th>\n",
       "      <th>Ticket</th>\n",
       "      <th>Fare</th>\n",
       "      <th>Cabin</th>\n",
       "      <th>Embarked</th>\n",
       "    </tr>\n",
       "  </thead>\n",
       "  <tbody>\n",
       "    <tr>\n",
       "      <th>0</th>\n",
       "      <td>892</td>\n",
       "      <td>3</td>\n",
       "      <td>Kelly, Mr. James</td>\n",
       "      <td>male</td>\n",
       "      <td>34.5</td>\n",
       "      <td>0</td>\n",
       "      <td>0</td>\n",
       "      <td>330911</td>\n",
       "      <td>7.8292</td>\n",
       "      <td>NaN</td>\n",
       "      <td>Q</td>\n",
       "    </tr>\n",
       "    <tr>\n",
       "      <th>1</th>\n",
       "      <td>893</td>\n",
       "      <td>3</td>\n",
       "      <td>Wilkes, Mrs. James (Ellen Needs)</td>\n",
       "      <td>female</td>\n",
       "      <td>47.0</td>\n",
       "      <td>1</td>\n",
       "      <td>0</td>\n",
       "      <td>363272</td>\n",
       "      <td>7.0000</td>\n",
       "      <td>NaN</td>\n",
       "      <td>S</td>\n",
       "    </tr>\n",
       "    <tr>\n",
       "      <th>2</th>\n",
       "      <td>894</td>\n",
       "      <td>2</td>\n",
       "      <td>Myles, Mr. Thomas Francis</td>\n",
       "      <td>male</td>\n",
       "      <td>62.0</td>\n",
       "      <td>0</td>\n",
       "      <td>0</td>\n",
       "      <td>240276</td>\n",
       "      <td>9.6875</td>\n",
       "      <td>NaN</td>\n",
       "      <td>Q</td>\n",
       "    </tr>\n",
       "    <tr>\n",
       "      <th>3</th>\n",
       "      <td>895</td>\n",
       "      <td>3</td>\n",
       "      <td>Wirz, Mr. Albert</td>\n",
       "      <td>male</td>\n",
       "      <td>27.0</td>\n",
       "      <td>0</td>\n",
       "      <td>0</td>\n",
       "      <td>315154</td>\n",
       "      <td>8.6625</td>\n",
       "      <td>NaN</td>\n",
       "      <td>S</td>\n",
       "    </tr>\n",
       "    <tr>\n",
       "      <th>4</th>\n",
       "      <td>896</td>\n",
       "      <td>3</td>\n",
       "      <td>Hirvonen, Mrs. Alexander (Helga E Lindqvist)</td>\n",
       "      <td>female</td>\n",
       "      <td>22.0</td>\n",
       "      <td>1</td>\n",
       "      <td>1</td>\n",
       "      <td>3101298</td>\n",
       "      <td>12.2875</td>\n",
       "      <td>NaN</td>\n",
       "      <td>S</td>\n",
       "    </tr>\n",
       "  </tbody>\n",
       "</table>\n",
       "</div>"
      ],
      "text/plain": [
       "   PassengerId  Pclass                                          Name     Sex  \\\n",
       "0          892       3                              Kelly, Mr. James    male   \n",
       "1          893       3              Wilkes, Mrs. James (Ellen Needs)  female   \n",
       "2          894       2                     Myles, Mr. Thomas Francis    male   \n",
       "3          895       3                              Wirz, Mr. Albert    male   \n",
       "4          896       3  Hirvonen, Mrs. Alexander (Helga E Lindqvist)  female   \n",
       "\n",
       "    Age  SibSp  Parch   Ticket     Fare Cabin Embarked  \n",
       "0  34.5      0      0   330911   7.8292   NaN        Q  \n",
       "1  47.0      1      0   363272   7.0000   NaN        S  \n",
       "2  62.0      0      0   240276   9.6875   NaN        Q  \n",
       "3  27.0      0      0   315154   8.6625   NaN        S  \n",
       "4  22.0      1      1  3101298  12.2875   NaN        S  "
      ]
     },
     "execution_count": 3,
     "metadata": {},
     "output_type": "execute_result"
    }
   ],
   "source": [
    "test_df = pd.read_csv(\"test.csv\")\n",
    "test_df.head()"
   ]
  },
  {
   "cell_type": "markdown",
   "metadata": {},
   "source": [
    "## 3. Wrangle, prepare, cleanse the data"
   ]
  },
  {
   "cell_type": "markdown",
   "metadata": {},
   "source": [
    "The following is a data overview from the [Kaggle website](https://www.kaggle.com/c/titanic/data)."
   ]
  },
  {
   "cell_type": "markdown",
   "metadata": {},
   "source": [
    "### Data Dictionary\n",
    "\n",
    "|Variable\t|Definition\t                                    |Key                                         |\n",
    "|-----------|:---------------------------------------------:|--------------------------------------------|                              \n",
    "|survival\t|Survival\t                                    |0 = No, 1 = Yes|\n",
    "|pclass\t    |Ticket class\t                                |1 = 1st, 2 = 2nd, 3 = 3rd|\n",
    "|sex\t    |Sex\t| |\n",
    "|Age\t    |Age in years\t| |\n",
    "|sibsp\t    |# of siblings / spouses aboard the Titanic\t| |\n",
    "|parch\t    |# of parents / children aboard the Titanic\t| |\n",
    "|ticket\t    |Ticket number\t||\n",
    "|fare\t    |Passenger fare\t||\n",
    "|cabin\t    |Cabin number\t||\n",
    "|embarked\t|Port of Embarkation\t                        |C = Cherbourg, Q = Queenstown, S = Southampton|\n",
    "\n",
    "\n",
    "### Variable Notes\n",
    "\n",
    "**pclass**: A proxy for socio-economic status (SES)\n",
    "\n",
    "    1st = Upper\n",
    "    2nd = Middle\n",
    "    3rd = Lower\n",
    "\n",
    "**age:** Age is fractional if less than 1. If the age is estimated, it is in the form of xx.5\n",
    "\n",
    "**sibsp:** The dataset defines family relations in this way...\n",
    "\n",
    "    Sibling = brother, sister, stepbrother, stepsister\n",
    "    Spouse = husband, wife (mistresses and fiancés were ignored)\n",
    "\n",
    "**parch:** The dataset defines family relations in this way...\n",
    "\n",
    "    Parent = mother, father\n",
    "    Child = daughter, son, stepdaughter, stepson\n",
    "    Some children travelled only with a nanny, therefore parch=0 for them."
   ]
  },
  {
   "cell_type": "markdown",
   "metadata": {},
   "source": [
    "Use the `pandas.info()` to check the data types:"
   ]
  },
  {
   "cell_type": "code",
   "execution_count": 4,
   "metadata": {},
   "outputs": [
    {
     "name": "stdout",
     "output_type": "stream",
     "text": [
      "Training dataset:\n",
      "<class 'pandas.core.frame.DataFrame'>\n",
      "RangeIndex: 891 entries, 0 to 890\n",
      "Data columns (total 12 columns):\n",
      "PassengerId    891 non-null int64\n",
      "Survived       891 non-null int64\n",
      "Pclass         891 non-null int64\n",
      "Name           891 non-null object\n",
      "Sex            891 non-null object\n",
      "Age            714 non-null float64\n",
      "SibSp          891 non-null int64\n",
      "Parch          891 non-null int64\n",
      "Ticket         891 non-null object\n",
      "Fare           891 non-null float64\n",
      "Cabin          204 non-null object\n",
      "Embarked       889 non-null object\n",
      "dtypes: float64(2), int64(5), object(5)\n",
      "memory usage: 83.6+ KB\n",
      "----------------------------------------\n",
      "Testing dataset:\n",
      "<class 'pandas.core.frame.DataFrame'>\n",
      "RangeIndex: 418 entries, 0 to 417\n",
      "Data columns (total 11 columns):\n",
      "PassengerId    418 non-null int64\n",
      "Pclass         418 non-null int64\n",
      "Name           418 non-null object\n",
      "Sex            418 non-null object\n",
      "Age            332 non-null float64\n",
      "SibSp          418 non-null int64\n",
      "Parch          418 non-null int64\n",
      "Ticket         418 non-null object\n",
      "Fare           417 non-null float64\n",
      "Cabin          91 non-null object\n",
      "Embarked       418 non-null object\n",
      "dtypes: float64(2), int64(4), object(5)\n",
      "memory usage: 36.0+ KB\n"
     ]
    }
   ],
   "source": [
    "print(\"Training dataset:\")\n",
    "train_df.info()\n",
    "print(\"-\"*40)\n",
    "print(\"Testing dataset:\")\n",
    "test_df.info()"
   ]
  },
  {
   "cell_type": "markdown",
   "metadata": {},
   "source": [
    "**Categorical features:** Name, Sex, Ticket, Cabin, Embarked, Pclass (coded in numerical)\n",
    "\n",
    "**Numerical features:** Age, SibSp, Parch, Fare\n",
    "\n",
    "**Features contain missing values in the training dataset:** Age, Cabin, Embarked "
   ]
  },
  {
   "cell_type": "markdown",
   "metadata": {},
   "source": [
    "### Descriptive statistics for the training dataset"
   ]
  },
  {
   "cell_type": "code",
   "execution_count": 5,
   "metadata": {},
   "outputs": [
    {
     "data": {
      "text/html": [
       "<div>\n",
       "<style>\n",
       "    .dataframe thead tr:only-child th {\n",
       "        text-align: right;\n",
       "    }\n",
       "\n",
       "    .dataframe thead th {\n",
       "        text-align: left;\n",
       "    }\n",
       "\n",
       "    .dataframe tbody tr th {\n",
       "        vertical-align: top;\n",
       "    }\n",
       "</style>\n",
       "<table border=\"1\" class=\"dataframe\">\n",
       "  <thead>\n",
       "    <tr style=\"text-align: right;\">\n",
       "      <th></th>\n",
       "      <th>PassengerId</th>\n",
       "      <th>Survived</th>\n",
       "      <th>Pclass</th>\n",
       "      <th>Age</th>\n",
       "      <th>SibSp</th>\n",
       "      <th>Parch</th>\n",
       "      <th>Fare</th>\n",
       "    </tr>\n",
       "  </thead>\n",
       "  <tbody>\n",
       "    <tr>\n",
       "      <th>count</th>\n",
       "      <td>891.000000</td>\n",
       "      <td>891.000000</td>\n",
       "      <td>891.000000</td>\n",
       "      <td>714.000000</td>\n",
       "      <td>891.000000</td>\n",
       "      <td>891.000000</td>\n",
       "      <td>891.000000</td>\n",
       "    </tr>\n",
       "    <tr>\n",
       "      <th>mean</th>\n",
       "      <td>446.000000</td>\n",
       "      <td>0.383838</td>\n",
       "      <td>2.308642</td>\n",
       "      <td>29.699118</td>\n",
       "      <td>0.523008</td>\n",
       "      <td>0.381594</td>\n",
       "      <td>32.204208</td>\n",
       "    </tr>\n",
       "    <tr>\n",
       "      <th>std</th>\n",
       "      <td>257.353842</td>\n",
       "      <td>0.486592</td>\n",
       "      <td>0.836071</td>\n",
       "      <td>14.526497</td>\n",
       "      <td>1.102743</td>\n",
       "      <td>0.806057</td>\n",
       "      <td>49.693429</td>\n",
       "    </tr>\n",
       "    <tr>\n",
       "      <th>min</th>\n",
       "      <td>1.000000</td>\n",
       "      <td>0.000000</td>\n",
       "      <td>1.000000</td>\n",
       "      <td>0.420000</td>\n",
       "      <td>0.000000</td>\n",
       "      <td>0.000000</td>\n",
       "      <td>0.000000</td>\n",
       "    </tr>\n",
       "    <tr>\n",
       "      <th>25%</th>\n",
       "      <td>223.500000</td>\n",
       "      <td>0.000000</td>\n",
       "      <td>2.000000</td>\n",
       "      <td>20.125000</td>\n",
       "      <td>0.000000</td>\n",
       "      <td>0.000000</td>\n",
       "      <td>7.910400</td>\n",
       "    </tr>\n",
       "    <tr>\n",
       "      <th>50%</th>\n",
       "      <td>446.000000</td>\n",
       "      <td>0.000000</td>\n",
       "      <td>3.000000</td>\n",
       "      <td>28.000000</td>\n",
       "      <td>0.000000</td>\n",
       "      <td>0.000000</td>\n",
       "      <td>14.454200</td>\n",
       "    </tr>\n",
       "    <tr>\n",
       "      <th>75%</th>\n",
       "      <td>668.500000</td>\n",
       "      <td>1.000000</td>\n",
       "      <td>3.000000</td>\n",
       "      <td>38.000000</td>\n",
       "      <td>1.000000</td>\n",
       "      <td>0.000000</td>\n",
       "      <td>31.000000</td>\n",
       "    </tr>\n",
       "    <tr>\n",
       "      <th>max</th>\n",
       "      <td>891.000000</td>\n",
       "      <td>1.000000</td>\n",
       "      <td>3.000000</td>\n",
       "      <td>80.000000</td>\n",
       "      <td>8.000000</td>\n",
       "      <td>6.000000</td>\n",
       "      <td>512.329200</td>\n",
       "    </tr>\n",
       "  </tbody>\n",
       "</table>\n",
       "</div>"
      ],
      "text/plain": [
       "       PassengerId    Survived      Pclass         Age       SibSp  \\\n",
       "count   891.000000  891.000000  891.000000  714.000000  891.000000   \n",
       "mean    446.000000    0.383838    2.308642   29.699118    0.523008   \n",
       "std     257.353842    0.486592    0.836071   14.526497    1.102743   \n",
       "min       1.000000    0.000000    1.000000    0.420000    0.000000   \n",
       "25%     223.500000    0.000000    2.000000   20.125000    0.000000   \n",
       "50%     446.000000    0.000000    3.000000   28.000000    0.000000   \n",
       "75%     668.500000    1.000000    3.000000   38.000000    1.000000   \n",
       "max     891.000000    1.000000    3.000000   80.000000    8.000000   \n",
       "\n",
       "            Parch        Fare  \n",
       "count  891.000000  891.000000  \n",
       "mean     0.381594   32.204208  \n",
       "std      0.806057   49.693429  \n",
       "min      0.000000    0.000000  \n",
       "25%      0.000000    7.910400  \n",
       "50%      0.000000   14.454200  \n",
       "75%      0.000000   31.000000  \n",
       "max      6.000000  512.329200  "
      ]
     },
     "execution_count": 5,
     "metadata": {},
     "output_type": "execute_result"
    }
   ],
   "source": [
    "train_df.describe()"
   ]
  },
  {
   "cell_type": "markdown",
   "metadata": {},
   "source": [
    "`Survived` and `Pclass` are actually not numerical data. Here we can use the descriptive values to check if there's any outliers from the max and min."
   ]
  },
  {
   "cell_type": "markdown",
   "metadata": {},
   "source": [
    "### Convert the categorical variables into dummy variables for modeling\n",
    "\n",
    "Create sets of dummy variables from the variables `Sex` and `Embarked`. `Pclass` is Ordinal data, so we keep it as the coded it has instead of converting into dummy variables."
   ]
  },
  {
   "cell_type": "code",
   "execution_count": 6,
   "metadata": {
    "collapsed": true
   },
   "outputs": [],
   "source": [
    "# Create sets of dummy variables from the variables Sex and Embarked\n",
    "df_sex = pd.get_dummies(train_df['Sex'])\n",
    "df_embarked = pd.get_dummies(train_df.Embarked)"
   ]
  },
  {
   "cell_type": "markdown",
   "metadata": {},
   "source": [
    "### Feature engineering\n",
    "\n",
    "Extract the title from the names. Reduce the names all to Mrs, Miss, Mr, and Master. Referencing from this [helpful blog post](https://triangleinequality.wordpress.com/2013/09/08/basic-feature-engineering-with-the-titanic-data/)."
   ]
  },
  {
   "cell_type": "code",
   "execution_count": 7,
   "metadata": {
    "collapsed": true
   },
   "outputs": [],
   "source": [
    "def title_in_name(name, titles):\n",
    "    for title in titles:\n",
    "        if name.find(title) != -1:\n",
    "            return title\n",
    "    return np.nan"
   ]
  },
  {
   "cell_type": "code",
   "execution_count": 8,
   "metadata": {
    "collapsed": true,
    "scrolled": true
   },
   "outputs": [],
   "source": [
    "title_list=['Mrs', 'Mr', 'Master', 'Miss', 'Major', 'Rev',\n",
    "            'Dr', 'Ms', 'Mlle','Col', 'Capt', 'Mme', 'Countess',\n",
    "            'Don', 'Jonkheer']\n",
    "\n",
    "train_df[\"Title\"] = train_df.Name.map(lambda x: title_in_name(x, title_list))"
   ]
  },
  {
   "cell_type": "code",
   "execution_count": 9,
   "metadata": {
    "collapsed": true
   },
   "outputs": [],
   "source": [
    "# Replace all titles with Mr, Mrs, Miss, Master\n",
    "def replace_titles(x):\n",
    "    title = x['Title']\n",
    "    if title in ['Don', 'Major', 'Capt', 'Jonkheer', 'Rev', 'Col']:\n",
    "        return 'Mr'\n",
    "    elif title in ['Countess', 'Mme']:\n",
    "        return 'Mrs'\n",
    "    elif title in ['Mlle', 'Ms']:\n",
    "        return 'Miss'\n",
    "    elif title =='Dr':\n",
    "        if x['Sex']=='Male':\n",
    "            return 'Mr'\n",
    "        else:\n",
    "            return 'Mrs'\n",
    "    else:\n",
    "        return title\n",
    "    \n",
    "train_df['Title'] = train_df.apply(replace_titles, axis=1)"
   ]
  },
  {
   "cell_type": "code",
   "execution_count": 10,
   "metadata": {
    "collapsed": true
   },
   "outputs": [],
   "source": [
    "# Convert title into dummy variables\n",
    "df_title = pd.get_dummies(train_df.Title)"
   ]
  },
  {
   "cell_type": "markdown",
   "metadata": {},
   "source": [
    "Add a new feature `Family_size`, see if people traveling alone have higher chance to survive. Maybe people who had a family might look for them, or even sacrificed a space to them in a lifeboat."
   ]
  },
  {
   "cell_type": "code",
   "execution_count": 11,
   "metadata": {
    "collapsed": true
   },
   "outputs": [],
   "source": [
    "train_df['Family_size'] = train_df.SibSp + train_df.Parch"
   ]
  },
  {
   "cell_type": "markdown",
   "metadata": {},
   "source": [
    "Convert `Cabin` into two categories, 1=is cabin crew, 0=is not cabin crew."
   ]
  },
  {
   "cell_type": "code",
   "execution_count": 12,
   "metadata": {},
   "outputs": [
    {
     "data": {
      "text/html": [
       "<div>\n",
       "<style>\n",
       "    .dataframe thead tr:only-child th {\n",
       "        text-align: right;\n",
       "    }\n",
       "\n",
       "    .dataframe thead th {\n",
       "        text-align: left;\n",
       "    }\n",
       "\n",
       "    .dataframe tbody tr th {\n",
       "        vertical-align: top;\n",
       "    }\n",
       "</style>\n",
       "<table border=\"1\" class=\"dataframe\">\n",
       "  <thead>\n",
       "    <tr style=\"text-align: right;\">\n",
       "      <th></th>\n",
       "      <th>PassengerId</th>\n",
       "      <th>Survived</th>\n",
       "      <th>Pclass</th>\n",
       "      <th>Name</th>\n",
       "      <th>Sex</th>\n",
       "      <th>Age</th>\n",
       "      <th>SibSp</th>\n",
       "      <th>Parch</th>\n",
       "      <th>Ticket</th>\n",
       "      <th>Fare</th>\n",
       "      <th>Cabin</th>\n",
       "      <th>Embarked</th>\n",
       "      <th>Title</th>\n",
       "      <th>Family_size</th>\n",
       "      <th>cabin_crew</th>\n",
       "    </tr>\n",
       "  </thead>\n",
       "  <tbody>\n",
       "    <tr>\n",
       "      <th>0</th>\n",
       "      <td>1</td>\n",
       "      <td>0</td>\n",
       "      <td>3</td>\n",
       "      <td>Braund, Mr. Owen Harris</td>\n",
       "      <td>male</td>\n",
       "      <td>22.0</td>\n",
       "      <td>1</td>\n",
       "      <td>0</td>\n",
       "      <td>A/5 21171</td>\n",
       "      <td>7.2500</td>\n",
       "      <td>NaN</td>\n",
       "      <td>S</td>\n",
       "      <td>Mr</td>\n",
       "      <td>1</td>\n",
       "      <td>0</td>\n",
       "    </tr>\n",
       "    <tr>\n",
       "      <th>1</th>\n",
       "      <td>2</td>\n",
       "      <td>1</td>\n",
       "      <td>1</td>\n",
       "      <td>Cumings, Mrs. John Bradley (Florence Briggs Th...</td>\n",
       "      <td>female</td>\n",
       "      <td>38.0</td>\n",
       "      <td>1</td>\n",
       "      <td>0</td>\n",
       "      <td>PC 17599</td>\n",
       "      <td>71.2833</td>\n",
       "      <td>C85</td>\n",
       "      <td>C</td>\n",
       "      <td>Mrs</td>\n",
       "      <td>1</td>\n",
       "      <td>1</td>\n",
       "    </tr>\n",
       "    <tr>\n",
       "      <th>2</th>\n",
       "      <td>3</td>\n",
       "      <td>1</td>\n",
       "      <td>3</td>\n",
       "      <td>Heikkinen, Miss. Laina</td>\n",
       "      <td>female</td>\n",
       "      <td>26.0</td>\n",
       "      <td>0</td>\n",
       "      <td>0</td>\n",
       "      <td>STON/O2. 3101282</td>\n",
       "      <td>7.9250</td>\n",
       "      <td>NaN</td>\n",
       "      <td>S</td>\n",
       "      <td>Miss</td>\n",
       "      <td>0</td>\n",
       "      <td>0</td>\n",
       "    </tr>\n",
       "    <tr>\n",
       "      <th>3</th>\n",
       "      <td>4</td>\n",
       "      <td>1</td>\n",
       "      <td>1</td>\n",
       "      <td>Futrelle, Mrs. Jacques Heath (Lily May Peel)</td>\n",
       "      <td>female</td>\n",
       "      <td>35.0</td>\n",
       "      <td>1</td>\n",
       "      <td>0</td>\n",
       "      <td>113803</td>\n",
       "      <td>53.1000</td>\n",
       "      <td>C123</td>\n",
       "      <td>S</td>\n",
       "      <td>Mrs</td>\n",
       "      <td>1</td>\n",
       "      <td>1</td>\n",
       "    </tr>\n",
       "    <tr>\n",
       "      <th>4</th>\n",
       "      <td>5</td>\n",
       "      <td>0</td>\n",
       "      <td>3</td>\n",
       "      <td>Allen, Mr. William Henry</td>\n",
       "      <td>male</td>\n",
       "      <td>35.0</td>\n",
       "      <td>0</td>\n",
       "      <td>0</td>\n",
       "      <td>373450</td>\n",
       "      <td>8.0500</td>\n",
       "      <td>NaN</td>\n",
       "      <td>S</td>\n",
       "      <td>Mr</td>\n",
       "      <td>0</td>\n",
       "      <td>0</td>\n",
       "    </tr>\n",
       "  </tbody>\n",
       "</table>\n",
       "</div>"
      ],
      "text/plain": [
       "   PassengerId  Survived  Pclass  \\\n",
       "0            1         0       3   \n",
       "1            2         1       1   \n",
       "2            3         1       3   \n",
       "3            4         1       1   \n",
       "4            5         0       3   \n",
       "\n",
       "                                                Name     Sex   Age  SibSp  \\\n",
       "0                            Braund, Mr. Owen Harris    male  22.0      1   \n",
       "1  Cumings, Mrs. John Bradley (Florence Briggs Th...  female  38.0      1   \n",
       "2                             Heikkinen, Miss. Laina  female  26.0      0   \n",
       "3       Futrelle, Mrs. Jacques Heath (Lily May Peel)  female  35.0      1   \n",
       "4                           Allen, Mr. William Henry    male  35.0      0   \n",
       "\n",
       "   Parch            Ticket     Fare Cabin Embarked Title  Family_size  \\\n",
       "0      0         A/5 21171   7.2500   NaN        S    Mr            1   \n",
       "1      0          PC 17599  71.2833   C85        C   Mrs            1   \n",
       "2      0  STON/O2. 3101282   7.9250   NaN        S  Miss            0   \n",
       "3      0            113803  53.1000  C123        S   Mrs            1   \n",
       "4      0            373450   8.0500   NaN        S    Mr            0   \n",
       "\n",
       "   cabin_crew  \n",
       "0           0  \n",
       "1           1  \n",
       "2           0  \n",
       "3           1  \n",
       "4           0  "
      ]
     },
     "execution_count": 12,
     "metadata": {},
     "output_type": "execute_result"
    }
   ],
   "source": [
    "train_df['cabin_crew'] = train_df.Cabin.apply(lambda x: 0 if type(x) is float else 1)\n",
    "train_df.head()"
   ]
  },
  {
   "cell_type": "markdown",
   "metadata": {},
   "source": [
    "Combine the dataset with the dummy variables:"
   ]
  },
  {
   "cell_type": "code",
   "execution_count": 13,
   "metadata": {
    "collapsed": true
   },
   "outputs": [],
   "source": [
    "train_df = pd.concat([train_df, df_sex, df_embarked, df_title], axis=1)"
   ]
  },
  {
   "cell_type": "code",
   "execution_count": 14,
   "metadata": {},
   "outputs": [
    {
     "data": {
      "text/html": [
       "<div>\n",
       "<style>\n",
       "    .dataframe thead tr:only-child th {\n",
       "        text-align: right;\n",
       "    }\n",
       "\n",
       "    .dataframe thead th {\n",
       "        text-align: left;\n",
       "    }\n",
       "\n",
       "    .dataframe tbody tr th {\n",
       "        vertical-align: top;\n",
       "    }\n",
       "</style>\n",
       "<table border=\"1\" class=\"dataframe\">\n",
       "  <thead>\n",
       "    <tr style=\"text-align: right;\">\n",
       "      <th></th>\n",
       "      <th>PassengerId</th>\n",
       "      <th>Survived</th>\n",
       "      <th>Pclass</th>\n",
       "      <th>Name</th>\n",
       "      <th>Sex</th>\n",
       "      <th>Age</th>\n",
       "      <th>SibSp</th>\n",
       "      <th>Parch</th>\n",
       "      <th>Ticket</th>\n",
       "      <th>Fare</th>\n",
       "      <th>...</th>\n",
       "      <th>cabin_crew</th>\n",
       "      <th>female</th>\n",
       "      <th>male</th>\n",
       "      <th>C</th>\n",
       "      <th>Q</th>\n",
       "      <th>S</th>\n",
       "      <th>Master</th>\n",
       "      <th>Miss</th>\n",
       "      <th>Mr</th>\n",
       "      <th>Mrs</th>\n",
       "    </tr>\n",
       "  </thead>\n",
       "  <tbody>\n",
       "    <tr>\n",
       "      <th>0</th>\n",
       "      <td>1</td>\n",
       "      <td>0</td>\n",
       "      <td>3</td>\n",
       "      <td>Braund, Mr. Owen Harris</td>\n",
       "      <td>male</td>\n",
       "      <td>22.0</td>\n",
       "      <td>1</td>\n",
       "      <td>0</td>\n",
       "      <td>A/5 21171</td>\n",
       "      <td>7.2500</td>\n",
       "      <td>...</td>\n",
       "      <td>0</td>\n",
       "      <td>0</td>\n",
       "      <td>1</td>\n",
       "      <td>0</td>\n",
       "      <td>0</td>\n",
       "      <td>1</td>\n",
       "      <td>0</td>\n",
       "      <td>0</td>\n",
       "      <td>1</td>\n",
       "      <td>0</td>\n",
       "    </tr>\n",
       "    <tr>\n",
       "      <th>1</th>\n",
       "      <td>2</td>\n",
       "      <td>1</td>\n",
       "      <td>1</td>\n",
       "      <td>Cumings, Mrs. John Bradley (Florence Briggs Th...</td>\n",
       "      <td>female</td>\n",
       "      <td>38.0</td>\n",
       "      <td>1</td>\n",
       "      <td>0</td>\n",
       "      <td>PC 17599</td>\n",
       "      <td>71.2833</td>\n",
       "      <td>...</td>\n",
       "      <td>1</td>\n",
       "      <td>1</td>\n",
       "      <td>0</td>\n",
       "      <td>1</td>\n",
       "      <td>0</td>\n",
       "      <td>0</td>\n",
       "      <td>0</td>\n",
       "      <td>0</td>\n",
       "      <td>0</td>\n",
       "      <td>1</td>\n",
       "    </tr>\n",
       "    <tr>\n",
       "      <th>2</th>\n",
       "      <td>3</td>\n",
       "      <td>1</td>\n",
       "      <td>3</td>\n",
       "      <td>Heikkinen, Miss. Laina</td>\n",
       "      <td>female</td>\n",
       "      <td>26.0</td>\n",
       "      <td>0</td>\n",
       "      <td>0</td>\n",
       "      <td>STON/O2. 3101282</td>\n",
       "      <td>7.9250</td>\n",
       "      <td>...</td>\n",
       "      <td>0</td>\n",
       "      <td>1</td>\n",
       "      <td>0</td>\n",
       "      <td>0</td>\n",
       "      <td>0</td>\n",
       "      <td>1</td>\n",
       "      <td>0</td>\n",
       "      <td>1</td>\n",
       "      <td>0</td>\n",
       "      <td>0</td>\n",
       "    </tr>\n",
       "    <tr>\n",
       "      <th>3</th>\n",
       "      <td>4</td>\n",
       "      <td>1</td>\n",
       "      <td>1</td>\n",
       "      <td>Futrelle, Mrs. Jacques Heath (Lily May Peel)</td>\n",
       "      <td>female</td>\n",
       "      <td>35.0</td>\n",
       "      <td>1</td>\n",
       "      <td>0</td>\n",
       "      <td>113803</td>\n",
       "      <td>53.1000</td>\n",
       "      <td>...</td>\n",
       "      <td>1</td>\n",
       "      <td>1</td>\n",
       "      <td>0</td>\n",
       "      <td>0</td>\n",
       "      <td>0</td>\n",
       "      <td>1</td>\n",
       "      <td>0</td>\n",
       "      <td>0</td>\n",
       "      <td>0</td>\n",
       "      <td>1</td>\n",
       "    </tr>\n",
       "    <tr>\n",
       "      <th>4</th>\n",
       "      <td>5</td>\n",
       "      <td>0</td>\n",
       "      <td>3</td>\n",
       "      <td>Allen, Mr. William Henry</td>\n",
       "      <td>male</td>\n",
       "      <td>35.0</td>\n",
       "      <td>0</td>\n",
       "      <td>0</td>\n",
       "      <td>373450</td>\n",
       "      <td>8.0500</td>\n",
       "      <td>...</td>\n",
       "      <td>0</td>\n",
       "      <td>0</td>\n",
       "      <td>1</td>\n",
       "      <td>0</td>\n",
       "      <td>0</td>\n",
       "      <td>1</td>\n",
       "      <td>0</td>\n",
       "      <td>0</td>\n",
       "      <td>1</td>\n",
       "      <td>0</td>\n",
       "    </tr>\n",
       "  </tbody>\n",
       "</table>\n",
       "<p>5 rows × 24 columns</p>\n",
       "</div>"
      ],
      "text/plain": [
       "   PassengerId  Survived  Pclass  \\\n",
       "0            1         0       3   \n",
       "1            2         1       1   \n",
       "2            3         1       3   \n",
       "3            4         1       1   \n",
       "4            5         0       3   \n",
       "\n",
       "                                                Name     Sex   Age  SibSp  \\\n",
       "0                            Braund, Mr. Owen Harris    male  22.0      1   \n",
       "1  Cumings, Mrs. John Bradley (Florence Briggs Th...  female  38.0      1   \n",
       "2                             Heikkinen, Miss. Laina  female  26.0      0   \n",
       "3       Futrelle, Mrs. Jacques Heath (Lily May Peel)  female  35.0      1   \n",
       "4                           Allen, Mr. William Henry    male  35.0      0   \n",
       "\n",
       "   Parch            Ticket     Fare ...  cabin_crew female male  C  Q  S  \\\n",
       "0      0         A/5 21171   7.2500 ...           0      0    1  0  0  1   \n",
       "1      0          PC 17599  71.2833 ...           1      1    0  1  0  0   \n",
       "2      0  STON/O2. 3101282   7.9250 ...           0      1    0  0  0  1   \n",
       "3      0            113803  53.1000 ...           1      1    0  0  0  1   \n",
       "4      0            373450   8.0500 ...           0      0    1  0  0  1   \n",
       "\n",
       "   Master  Miss  Mr  Mrs  \n",
       "0       0     0   1    0  \n",
       "1       0     0   0    1  \n",
       "2       0     1   0    0  \n",
       "3       0     0   0    1  \n",
       "4       0     0   1    0  \n",
       "\n",
       "[5 rows x 24 columns]"
      ]
     },
     "execution_count": 14,
     "metadata": {},
     "output_type": "execute_result"
    }
   ],
   "source": [
    "train_df.head()"
   ]
  },
  {
   "cell_type": "markdown",
   "metadata": {},
   "source": [
    "**Distribution of categorical features:**\n",
    "\n",
    "* Names are unique across the dataset\n",
    "* Sex are two variables with 65% male\n",
    "* There are 681 kinds of unique Tickets, it is not a good idea to make it into a dummy variable\n",
    "* There are 204 Cabin crews with 147 different positions\n",
    "* Three ports for embarkation, most of the people embarked from S (Southampton)\n",
    "* 4 unique Titles with 60% Mr."
   ]
  },
  {
   "cell_type": "code",
   "execution_count": 15,
   "metadata": {},
   "outputs": [
    {
     "data": {
      "text/html": [
       "<div>\n",
       "<style>\n",
       "    .dataframe thead tr:only-child th {\n",
       "        text-align: right;\n",
       "    }\n",
       "\n",
       "    .dataframe thead th {\n",
       "        text-align: left;\n",
       "    }\n",
       "\n",
       "    .dataframe tbody tr th {\n",
       "        vertical-align: top;\n",
       "    }\n",
       "</style>\n",
       "<table border=\"1\" class=\"dataframe\">\n",
       "  <thead>\n",
       "    <tr style=\"text-align: right;\">\n",
       "      <th></th>\n",
       "      <th>Name</th>\n",
       "      <th>Sex</th>\n",
       "      <th>Ticket</th>\n",
       "      <th>Cabin</th>\n",
       "      <th>Embarked</th>\n",
       "      <th>Title</th>\n",
       "    </tr>\n",
       "  </thead>\n",
       "  <tbody>\n",
       "    <tr>\n",
       "      <th>count</th>\n",
       "      <td>891</td>\n",
       "      <td>891</td>\n",
       "      <td>891</td>\n",
       "      <td>204</td>\n",
       "      <td>889</td>\n",
       "      <td>891</td>\n",
       "    </tr>\n",
       "    <tr>\n",
       "      <th>unique</th>\n",
       "      <td>891</td>\n",
       "      <td>2</td>\n",
       "      <td>681</td>\n",
       "      <td>147</td>\n",
       "      <td>3</td>\n",
       "      <td>4</td>\n",
       "    </tr>\n",
       "    <tr>\n",
       "      <th>top</th>\n",
       "      <td>Graham, Mr. George Edward</td>\n",
       "      <td>male</td>\n",
       "      <td>CA. 2343</td>\n",
       "      <td>C23 C25 C27</td>\n",
       "      <td>S</td>\n",
       "      <td>Mr</td>\n",
       "    </tr>\n",
       "    <tr>\n",
       "      <th>freq</th>\n",
       "      <td>1</td>\n",
       "      <td>577</td>\n",
       "      <td>7</td>\n",
       "      <td>4</td>\n",
       "      <td>644</td>\n",
       "      <td>531</td>\n",
       "    </tr>\n",
       "  </tbody>\n",
       "</table>\n",
       "</div>"
      ],
      "text/plain": [
       "                             Name   Sex    Ticket        Cabin Embarked Title\n",
       "count                         891   891       891          204      889   891\n",
       "unique                        891     2       681          147        3     4\n",
       "top     Graham, Mr. George Edward  male  CA. 2343  C23 C25 C27        S    Mr\n",
       "freq                            1   577         7            4      644   531"
      ]
     },
     "execution_count": 15,
     "metadata": {},
     "output_type": "execute_result"
    }
   ],
   "source": [
    "train_df.describe(include=['O'])"
   ]
  },
  {
   "cell_type": "code",
   "execution_count": 16,
   "metadata": {},
   "outputs": [
    {
     "name": "stdout",
     "output_type": "stream",
     "text": [
      "<class 'pandas.core.frame.DataFrame'>\n",
      "RangeIndex: 891 entries, 0 to 890\n",
      "Data columns (total 24 columns):\n",
      "PassengerId    891 non-null int64\n",
      "Survived       891 non-null int64\n",
      "Pclass         891 non-null int64\n",
      "Name           891 non-null object\n",
      "Sex            891 non-null object\n",
      "Age            714 non-null float64\n",
      "SibSp          891 non-null int64\n",
      "Parch          891 non-null int64\n",
      "Ticket         891 non-null object\n",
      "Fare           891 non-null float64\n",
      "Cabin          204 non-null object\n",
      "Embarked       889 non-null object\n",
      "Title          891 non-null object\n",
      "Family_size    891 non-null int64\n",
      "cabin_crew     891 non-null int64\n",
      "female         891 non-null uint8\n",
      "male           891 non-null uint8\n",
      "C              891 non-null uint8\n",
      "Q              891 non-null uint8\n",
      "S              891 non-null uint8\n",
      "Master         891 non-null uint8\n",
      "Miss           891 non-null uint8\n",
      "Mr             891 non-null uint8\n",
      "Mrs            891 non-null uint8\n",
      "dtypes: float64(2), int64(7), object(6), uint8(9)\n",
      "memory usage: 112.3+ KB\n"
     ]
    }
   ],
   "source": [
    "train_df.info()"
   ]
  },
  {
   "cell_type": "markdown",
   "metadata": {},
   "source": [
    "Also do the same feature engineering to the testing dataset:"
   ]
  },
  {
   "cell_type": "code",
   "execution_count": 17,
   "metadata": {},
   "outputs": [
    {
     "data": {
      "text/html": [
       "<div>\n",
       "<style>\n",
       "    .dataframe thead tr:only-child th {\n",
       "        text-align: right;\n",
       "    }\n",
       "\n",
       "    .dataframe thead th {\n",
       "        text-align: left;\n",
       "    }\n",
       "\n",
       "    .dataframe tbody tr th {\n",
       "        vertical-align: top;\n",
       "    }\n",
       "</style>\n",
       "<table border=\"1\" class=\"dataframe\">\n",
       "  <thead>\n",
       "    <tr style=\"text-align: right;\">\n",
       "      <th></th>\n",
       "      <th>PassengerId</th>\n",
       "      <th>Pclass</th>\n",
       "      <th>Name</th>\n",
       "      <th>Sex</th>\n",
       "      <th>Age</th>\n",
       "      <th>SibSp</th>\n",
       "      <th>Parch</th>\n",
       "      <th>Ticket</th>\n",
       "      <th>Fare</th>\n",
       "      <th>Cabin</th>\n",
       "      <th>...</th>\n",
       "      <th>cabin_crew</th>\n",
       "      <th>female</th>\n",
       "      <th>male</th>\n",
       "      <th>C</th>\n",
       "      <th>Q</th>\n",
       "      <th>S</th>\n",
       "      <th>Master</th>\n",
       "      <th>Miss</th>\n",
       "      <th>Mr</th>\n",
       "      <th>Mrs</th>\n",
       "    </tr>\n",
       "  </thead>\n",
       "  <tbody>\n",
       "    <tr>\n",
       "      <th>0</th>\n",
       "      <td>892</td>\n",
       "      <td>3</td>\n",
       "      <td>Kelly, Mr. James</td>\n",
       "      <td>male</td>\n",
       "      <td>34.5</td>\n",
       "      <td>0</td>\n",
       "      <td>0</td>\n",
       "      <td>330911</td>\n",
       "      <td>7.8292</td>\n",
       "      <td>NaN</td>\n",
       "      <td>...</td>\n",
       "      <td>0</td>\n",
       "      <td>0</td>\n",
       "      <td>1</td>\n",
       "      <td>0</td>\n",
       "      <td>1</td>\n",
       "      <td>0</td>\n",
       "      <td>0</td>\n",
       "      <td>0</td>\n",
       "      <td>1</td>\n",
       "      <td>0</td>\n",
       "    </tr>\n",
       "    <tr>\n",
       "      <th>1</th>\n",
       "      <td>893</td>\n",
       "      <td>3</td>\n",
       "      <td>Wilkes, Mrs. James (Ellen Needs)</td>\n",
       "      <td>female</td>\n",
       "      <td>47.0</td>\n",
       "      <td>1</td>\n",
       "      <td>0</td>\n",
       "      <td>363272</td>\n",
       "      <td>7.0000</td>\n",
       "      <td>NaN</td>\n",
       "      <td>...</td>\n",
       "      <td>0</td>\n",
       "      <td>1</td>\n",
       "      <td>0</td>\n",
       "      <td>0</td>\n",
       "      <td>0</td>\n",
       "      <td>1</td>\n",
       "      <td>0</td>\n",
       "      <td>0</td>\n",
       "      <td>0</td>\n",
       "      <td>1</td>\n",
       "    </tr>\n",
       "    <tr>\n",
       "      <th>2</th>\n",
       "      <td>894</td>\n",
       "      <td>2</td>\n",
       "      <td>Myles, Mr. Thomas Francis</td>\n",
       "      <td>male</td>\n",
       "      <td>62.0</td>\n",
       "      <td>0</td>\n",
       "      <td>0</td>\n",
       "      <td>240276</td>\n",
       "      <td>9.6875</td>\n",
       "      <td>NaN</td>\n",
       "      <td>...</td>\n",
       "      <td>0</td>\n",
       "      <td>0</td>\n",
       "      <td>1</td>\n",
       "      <td>0</td>\n",
       "      <td>1</td>\n",
       "      <td>0</td>\n",
       "      <td>0</td>\n",
       "      <td>0</td>\n",
       "      <td>1</td>\n",
       "      <td>0</td>\n",
       "    </tr>\n",
       "    <tr>\n",
       "      <th>3</th>\n",
       "      <td>895</td>\n",
       "      <td>3</td>\n",
       "      <td>Wirz, Mr. Albert</td>\n",
       "      <td>male</td>\n",
       "      <td>27.0</td>\n",
       "      <td>0</td>\n",
       "      <td>0</td>\n",
       "      <td>315154</td>\n",
       "      <td>8.6625</td>\n",
       "      <td>NaN</td>\n",
       "      <td>...</td>\n",
       "      <td>0</td>\n",
       "      <td>0</td>\n",
       "      <td>1</td>\n",
       "      <td>0</td>\n",
       "      <td>0</td>\n",
       "      <td>1</td>\n",
       "      <td>0</td>\n",
       "      <td>0</td>\n",
       "      <td>1</td>\n",
       "      <td>0</td>\n",
       "    </tr>\n",
       "    <tr>\n",
       "      <th>4</th>\n",
       "      <td>896</td>\n",
       "      <td>3</td>\n",
       "      <td>Hirvonen, Mrs. Alexander (Helga E Lindqvist)</td>\n",
       "      <td>female</td>\n",
       "      <td>22.0</td>\n",
       "      <td>1</td>\n",
       "      <td>1</td>\n",
       "      <td>3101298</td>\n",
       "      <td>12.2875</td>\n",
       "      <td>NaN</td>\n",
       "      <td>...</td>\n",
       "      <td>0</td>\n",
       "      <td>1</td>\n",
       "      <td>0</td>\n",
       "      <td>0</td>\n",
       "      <td>0</td>\n",
       "      <td>1</td>\n",
       "      <td>0</td>\n",
       "      <td>0</td>\n",
       "      <td>0</td>\n",
       "      <td>1</td>\n",
       "    </tr>\n",
       "  </tbody>\n",
       "</table>\n",
       "<p>5 rows × 23 columns</p>\n",
       "</div>"
      ],
      "text/plain": [
       "   PassengerId  Pclass                                          Name     Sex  \\\n",
       "0          892       3                              Kelly, Mr. James    male   \n",
       "1          893       3              Wilkes, Mrs. James (Ellen Needs)  female   \n",
       "2          894       2                     Myles, Mr. Thomas Francis    male   \n",
       "3          895       3                              Wirz, Mr. Albert    male   \n",
       "4          896       3  Hirvonen, Mrs. Alexander (Helga E Lindqvist)  female   \n",
       "\n",
       "    Age  SibSp  Parch   Ticket     Fare Cabin ...  cabin_crew female  male  C  \\\n",
       "0  34.5      0      0   330911   7.8292   NaN ...           0      0     1  0   \n",
       "1  47.0      1      0   363272   7.0000   NaN ...           0      1     0  0   \n",
       "2  62.0      0      0   240276   9.6875   NaN ...           0      0     1  0   \n",
       "3  27.0      0      0   315154   8.6625   NaN ...           0      0     1  0   \n",
       "4  22.0      1      1  3101298  12.2875   NaN ...           0      1     0  0   \n",
       "\n",
       "   Q  S  Master  Miss  Mr  Mrs  \n",
       "0  1  0       0     0   1    0  \n",
       "1  0  1       0     0   0    1  \n",
       "2  1  0       0     0   1    0  \n",
       "3  0  1       0     0   1    0  \n",
       "4  0  1       0     0   0    1  \n",
       "\n",
       "[5 rows x 23 columns]"
      ]
     },
     "execution_count": 17,
     "metadata": {},
     "output_type": "execute_result"
    }
   ],
   "source": [
    "# Create sets of dummy variables from the variables Sex and Embarked\n",
    "df_sex2 = pd.get_dummies(test_df.Sex)\n",
    "df_embarked2 = pd.get_dummies(test_df.Embarked)\n",
    "test_df[\"Title\"] = test_df.Name.map(lambda x: title_in_name(x, title_list))\n",
    "test_df['Title'] = test_df.apply(replace_titles, axis=1)\n",
    "df_title2 = pd.get_dummies(test_df.Title)\n",
    "test_df['Family_size'] = test_df.SibSp + test_df.Parch\n",
    "test_df['cabin_crew'] = test_df.Cabin.apply(lambda x: 0 if type(x) is float else 1)\n",
    "test_df = pd.concat([test_df, df_sex2, df_embarked2, df_title2], axis=1)\n",
    "test_df.head()"
   ]
  },
  {
   "cell_type": "markdown",
   "metadata": {
    "collapsed": true
   },
   "source": [
    "## 4. Analyze, identify patterns, and explore the data."
   ]
  },
  {
   "cell_type": "markdown",
   "metadata": {},
   "source": [
    "People on the *upper class* had the highest survival rate:"
   ]
  },
  {
   "cell_type": "code",
   "execution_count": 18,
   "metadata": {},
   "outputs": [
    {
     "data": {
      "image/png": "[encoded data removed]",
      "text/plain": [
       "<matplotlib.figure.Figure at 0x109e37e10>"
      ]
     },
     "metadata": {
      "image/png": {
       "height": 262,
       "width": 384
      }
     },
     "output_type": "display_data"
    }
   ],
   "source": [
    "survived_pclass = train_df[[\"Pclass\",\"Survived\"]].groupby(\"Pclass\", as_index=False).mean()\n",
    "ax = sns.barplot(x=\"Pclass\", y=\"Survived\", data=survived_pclass)\n",
    "for p in ax.patches:\n",
    "    height = p.get_height()\n",
    "    ax.text(p.get_x()+p.get_width()/2.,\n",
    "            height,\n",
    "            '{:1.2f}'.format(height),\n",
    "            ha=\"center\") "
   ]
  },
  {
   "cell_type": "markdown",
   "metadata": {},
   "source": [
    "Women's survival rate is a lot higher than men:"
   ]
  },
  {
   "cell_type": "code",
   "execution_count": 19,
   "metadata": {},
   "outputs": [
    {
     "data": {
      "image/png": "[encoded data removed]",
      "text/plain": [
       "<matplotlib.figure.Figure at 0x114be74d0>"
      ]
     },
     "metadata": {
      "image/png": {
       "height": 262,
       "width": 384
      }
     },
     "output_type": "display_data"
    }
   ],
   "source": [
    "survived_sex = train_df[[\"Sex\",\"Survived\"]].groupby(\"Sex\", as_index=False).mean()\n",
    "ax = sns.barplot(x=\"Sex\", y=\"Survived\", data=survived_sex)\n",
    "for p in ax.patches:\n",
    "    height = p.get_height()\n",
    "    ax.text(p.get_x()+p.get_width()/2.,\n",
    "            height,\n",
    "            '{:1.2f}'.format(height),\n",
    "            ha=\"center\") "
   ]
  },
  {
   "cell_type": "markdown",
   "metadata": {},
   "source": [
    "Here, I use a two-proportion z-test to see if there is a significant difference between the survival rate of male and female:"
   ]
  },
  {
   "cell_type": "code",
   "execution_count": 93,
   "metadata": {},
   "outputs": [
    {
     "name": "stdout",
     "output_type": "stream",
     "text": [
      "P-value:  3.71174777011e-59\n"
     ]
    }
   ],
   "source": [
    "from statsmodels.stats.proportion import proportions_ztest\n",
    "total_male_count = train_df.Sex.value_counts()[0]\n",
    "total_female_count = train_df.Sex.value_counts()[1]\n",
    "survived_male_count = train_df.loc[train_df[\"Survived\"] == 1][\"Sex\"].value_counts()[1]\n",
    "survived_female_count = train_df.loc[train_df[\"Survived\"] == 1][\"Sex\"].value_counts()[0]\n",
    "counts = np.array([survived_male_count, survived_female_count])\n",
    "nobs = np.array([total_male_count, total_female_count])\n",
    "\n",
    "stat, pval = proportions_ztest(counts, nobs)\n",
    "print \"P-value: \", pval\n",
    "# print '{0:0.3f}'.format(pval)"
   ]
  },
  {
   "cell_type": "markdown",
   "metadata": {},
   "source": [
    "From the two-proportion z-test, we can conclude that the survival rates between two groups are significantly different."
   ]
  },
  {
   "cell_type": "code",
   "execution_count": 20,
   "metadata": {},
   "outputs": [
    {
     "data": {
      "image/png": "[encoded data removed]",
      "text/plain": [
       "<matplotlib.figure.Figure at 0x118422ed0>"
      ]
     },
     "metadata": {
      "image/png": {
       "height": 262,
       "width": 384
      }
     },
     "output_type": "display_data"
    }
   ],
   "source": [
    "survived_sibsp = train_df[[\"SibSp\",\"Survived\"]].groupby(\"SibSp\", as_index=False).mean()\n",
    "ax = sns.barplot(x=\"SibSp\", y=\"Survived\", data=survived_sibsp)\n",
    "for p in ax.patches:\n",
    "    height = p.get_height()\n",
    "    ax.text(p.get_x()+p.get_width()/2.,\n",
    "            height,\n",
    "            '{:1.2f}'.format(height),\n",
    "            ha=\"center\") "
   ]
  },
  {
   "cell_type": "code",
   "execution_count": 21,
   "metadata": {},
   "outputs": [
    {
     "data": {
      "image/png": "[encoded data removed]",
      "text/plain": [
       "<matplotlib.figure.Figure at 0x1186c6850>"
      ]
     },
     "metadata": {
      "image/png": {
       "height": 262,
       "width": 384
      }
     },
     "output_type": "display_data"
    }
   ],
   "source": [
    "survived_parch = train_df[[\"Parch\",\"Survived\"]].groupby(\"Parch\", as_index=False).mean()\n",
    "ax = sns.barplot(x=\"Parch\", y=\"Survived\", data=survived_parch)\n",
    "for p in ax.patches:\n",
    "    height = p.get_height()\n",
    "    ax.text(p.get_x()+p.get_width()/2.,\n",
    "            height,\n",
    "            '{:1.2f}'.format(height),\n",
    "            ha=\"center\") "
   ]
  },
  {
   "cell_type": "code",
   "execution_count": 22,
   "metadata": {},
   "outputs": [
    {
     "data": {
      "image/png": "[encoded data removed]",
      "text/plain": [
       "<matplotlib.figure.Figure at 0x1186b7850>"
      ]
     },
     "metadata": {
      "image/png": {
       "height": 262,
       "width": 384
      }
     },
     "output_type": "display_data"
    }
   ],
   "source": [
    "survived_family = train_df[[\"Family_size\",\"Survived\"]].groupby(\"Family_size\", as_index=False).mean()\n",
    "ax = sns.barplot(x=\"Family_size\", y=\"Survived\", data=survived_family)\n",
    "for p in ax.patches:\n",
    "    height = p.get_height()\n",
    "    ax.text(p.get_x()+p.get_width()/2.,\n",
    "            height,\n",
    "            '{:1.2f}'.format(height),\n",
    "            ha=\"center\") "
   ]
  },
  {
   "cell_type": "markdown",
   "metadata": {},
   "source": [
    "The people who were survived are slightly youger than those who did not survive, this might because they let women and children to load on the lifeboat first. The overall age lies inbetween 20-38."
   ]
  },
  {
   "cell_type": "code",
   "execution_count": 23,
   "metadata": {},
   "outputs": [
    {
     "data": {
      "text/plain": [
       "<matplotlib.axes._subplots.AxesSubplot at 0x11898fb50>"
      ]
     },
     "execution_count": 23,
     "metadata": {},
     "output_type": "execute_result"
    },
    {
     "data": {
      "image/png": "[encoded data removed]",
      "text/plain": [
       "<matplotlib.figure.Figure at 0x114cfb510>"
      ]
     },
     "metadata": {
      "image/png": {
       "height": 479,
       "width": 710
      }
     },
     "output_type": "display_data"
    }
   ],
   "source": [
    "plt.figure(figsize=(12,8))\n",
    "ax1 = plt.subplot(211)\n",
    "sns.boxplot(y=\"Survived\", x=\"Age\", data=train_df, orient=\"h\")\n",
    "\n",
    "# share x only\n",
    "ax2 = plt.subplot(212, sharex=ax1)\n",
    "sns.boxplot(x=\"Age\", data=train_df, orient=\"h\")"
   ]
  },
  {
   "cell_type": "code",
   "execution_count": 24,
   "metadata": {},
   "outputs": [
    {
     "data": {
      "text/plain": [
       "<seaborn.axisgrid.FacetGrid at 0x114cfb810>"
      ]
     },
     "execution_count": 24,
     "metadata": {},
     "output_type": "execute_result"
    },
    {
     "data": {
      "image/png": "[encoded data removed]",
      "text/plain": [
       "<matplotlib.figure.Figure at 0x11925cc10>"
      ]
     },
     "metadata": {
      "image/png": {
       "height": 281,
       "width": 568
      }
     },
     "output_type": "display_data"
    }
   ],
   "source": [
    "g = sns.FacetGrid(train_df, col='Survived', size=4)\n",
    "g.map(plt.hist, 'Age', bins=20)"
   ]
  },
  {
   "cell_type": "markdown",
   "metadata": {},
   "source": [
    "**Correlating numerical (age) and ordinal (Pclass) features**\n",
    "* Most people were in Pclass=3, but most of them did not survive\n",
    "* Most people in Pclass=1 did survive"
   ]
  },
  {
   "cell_type": "code",
   "execution_count": 25,
   "metadata": {},
   "outputs": [
    {
     "data": {
      "text/plain": [
       "<seaborn.axisgrid.FacetGrid at 0x1198d0290>"
      ]
     },
     "execution_count": 25,
     "metadata": {},
     "output_type": "execute_result"
    },
    {
     "data": {
      "image/png": "[encoded data removed]",
      "text/plain": [
       "<matplotlib.figure.Figure at 0x114cc0dd0>"
      ]
     },
     "metadata": {
      "image/png": {
       "height": 468,
       "width": 512
      }
     },
     "output_type": "display_data"
    }
   ],
   "source": [
    "grid = sns.FacetGrid(train_df, col='Survived', row='Pclass', size=2.2, aspect=1.6)\n",
    "grid.map(plt.hist, 'Age', bins=20)\n",
    "grid.add_legend()"
   ]
  },
  {
   "cell_type": "markdown",
   "metadata": {},
   "source": [
    "### Extracting features for modeling"
   ]
  },
  {
   "cell_type": "code",
   "execution_count": 26,
   "metadata": {},
   "outputs": [
    {
     "name": "stdout",
     "output_type": "stream",
     "text": [
      "<class 'pandas.core.frame.DataFrame'>\n",
      "RangeIndex: 891 entries, 0 to 890\n",
      "Data columns (total 24 columns):\n",
      "PassengerId    891 non-null int64\n",
      "Survived       891 non-null int64\n",
      "Pclass         891 non-null int64\n",
      "Name           891 non-null object\n",
      "Sex            891 non-null object\n",
      "Age            714 non-null float64\n",
      "SibSp          891 non-null int64\n",
      "Parch          891 non-null int64\n",
      "Ticket         891 non-null object\n",
      "Fare           891 non-null float64\n",
      "Cabin          204 non-null object\n",
      "Embarked       889 non-null object\n",
      "Title          891 non-null object\n",
      "Family_size    891 non-null int64\n",
      "cabin_crew     891 non-null int64\n",
      "female         891 non-null uint8\n",
      "male           891 non-null uint8\n",
      "C              891 non-null uint8\n",
      "Q              891 non-null uint8\n",
      "S              891 non-null uint8\n",
      "Master         891 non-null uint8\n",
      "Miss           891 non-null uint8\n",
      "Mr             891 non-null uint8\n",
      "Mrs            891 non-null uint8\n",
      "dtypes: float64(2), int64(7), object(6), uint8(9)\n",
      "memory usage: 112.3+ KB\n"
     ]
    }
   ],
   "source": [
    "train_df.info()"
   ]
  },
  {
   "cell_type": "code",
   "execution_count": 27,
   "metadata": {},
   "outputs": [
    {
     "name": "stdout",
     "output_type": "stream",
     "text": [
      "<class 'pandas.core.frame.DataFrame'>\n",
      "Int64Index: 714 entries, 0 to 890\n",
      "Data columns (total 17 columns):\n",
      "Survived       714 non-null int64\n",
      "Pclass         714 non-null int64\n",
      "Age            714 non-null float64\n",
      "SibSp          714 non-null int64\n",
      "Parch          714 non-null int64\n",
      "Fare           714 non-null float64\n",
      "Family_size    714 non-null int64\n",
      "cabin_crew     714 non-null int64\n",
      "female         714 non-null uint8\n",
      "male           714 non-null uint8\n",
      "C              714 non-null uint8\n",
      "Q              714 non-null uint8\n",
      "S              714 non-null uint8\n",
      "Master         714 non-null uint8\n",
      "Miss           714 non-null uint8\n",
      "Mr             714 non-null uint8\n",
      "Mrs            714 non-null uint8\n",
      "dtypes: float64(2), int64(6), uint8(9)\n",
      "memory usage: 56.5 KB\n"
     ]
    }
   ],
   "source": [
    "# Drop rows with nan\n",
    "train_df_nona = train_df[[\"Survived\", \"Pclass\", \"Age\", \"SibSp\", \"Parch\", \"Fare\", \"Family_size\", \"cabin_crew\",\n",
    "                          \"female\", \"male\", \"C\", \"Q\", \"S\", \"Master\", \"Miss\", \"Mr\", \"Mrs\", ]]\n",
    "train_df_nona = train_df_nona.dropna()\n",
    "train_df_nona.info()"
   ]
  },
  {
   "cell_type": "markdown",
   "metadata": {},
   "source": [
    "### Correlation plot\n",
    "\n",
    "* Survived is highly correlated to Sex (male and female)\n",
    "* Mr is highly correlated to male\n",
    "* Family_size is highly correlated to Sibsp and Parch"
   ]
  },
  {
   "cell_type": "code",
   "execution_count": 38,
   "metadata": {},
   "outputs": [
    {
     "data": {
      "text/plain": [
       "<matplotlib.axes._subplots.AxesSubplot at 0x11a4c1a10>"
      ]
     },
     "execution_count": 38,
     "metadata": {},
     "output_type": "execute_result"
    },
    {
     "data": {
      "image/png": "[encoded data removed]",
      "text/plain": [
       "<matplotlib.figure.Figure at 0x11a3b9a90>"
      ]
     },
     "metadata": {
      "image/png": {
       "height": 563,
       "width": 633
      }
     },
     "output_type": "display_data"
    }
   ],
   "source": [
    "# Correlation plot\n",
    "corr = train_df_nona.corr()\n",
    "# Generate a mask for the upper triangle\n",
    "mask = np.zeros_like(corr, dtype=np.bool)\n",
    "mask[np.triu_indices_from(mask)] = True\n",
    "\n",
    "# Set up the matplotlib figure\n",
    "f, ax = plt.subplots(figsize=(11, 9))\n",
    "\n",
    "# Generate a custom diverging colormap\n",
    "cmap = sns.diverging_palette(220, 10, as_cmap=True)\n",
    "\n",
    "# Draw the heatmap with the mask and correct aspect ratio\n",
    "sns.heatmap(corr, mask=mask, cmap=cmap, vmax=.3, center=0,\n",
    "            square=True, linewidths=.5, cbar_kws={\"shrink\": .5})"
   ]
  },
  {
   "cell_type": "code",
   "execution_count": 28,
   "metadata": {},
   "outputs": [
    {
     "name": "stdout",
     "output_type": "stream",
     "text": [
      "<class 'pandas.core.frame.DataFrame'>\n",
      "Int64Index: 714 entries, 0 to 890\n",
      "Data columns (total 16 columns):\n",
      "Pclass         714 non-null int64\n",
      "Age            714 non-null float64\n",
      "SibSp          714 non-null int64\n",
      "Parch          714 non-null int64\n",
      "Fare           714 non-null float64\n",
      "Family_size    714 non-null int64\n",
      "cabin_crew     714 non-null int64\n",
      "female         714 non-null uint8\n",
      "male           714 non-null uint8\n",
      "C              714 non-null uint8\n",
      "Q              714 non-null uint8\n",
      "S              714 non-null uint8\n",
      "Master         714 non-null uint8\n",
      "Miss           714 non-null uint8\n",
      "Mr             714 non-null uint8\n",
      "Mrs            714 non-null uint8\n",
      "dtypes: float64(2), int64(5), uint8(9)\n",
      "memory usage: 50.9 KB\n"
     ]
    }
   ],
   "source": [
    "# Extract the numerical features\n",
    "X = train_df_nona[[\"Pclass\", \"Age\", \"SibSp\", \"Parch\", \"Fare\", \"Family_size\", \"cabin_crew\",\n",
    "                       \"female\", \"male\", \"C\", \"Q\", \"S\", \"Master\", \"Miss\", \"Mr\", \"Mrs\", ]]\n",
    "y = train_df_nona[\"Survived\"]\n",
    "X.info()"
   ]
  },
  {
   "cell_type": "code",
   "execution_count": 29,
   "metadata": {
    "collapsed": true
   },
   "outputs": [],
   "source": [
    "X = X.values\n",
    "y = y.values"
   ]
  },
  {
   "cell_type": "markdown",
   "metadata": {},
   "source": [
    "## 5. Model, predict, and solve the problem"
   ]
  },
  {
   "cell_type": "markdown",
   "metadata": {},
   "source": [
    "Here, we use the following algorithms to build the models:\n",
    "\n",
    "* Logistic regression\n",
    "* Support vector machine\n",
    "* Random Forest\n"
   ]
  },
  {
   "cell_type": "markdown",
   "metadata": {},
   "source": [
    "Split the data into training and testing (validation) sets:"
   ]
  },
  {
   "cell_type": "code",
   "execution_count": 30,
   "metadata": {
    "collapsed": true
   },
   "outputs": [],
   "source": [
    "seed = 7\n",
    "np.random.seed(seed)\n",
    "\n",
    "X_train, X_test, y_train, y_test = train_test_split(X, y, test_size=0.33, random_state=42)"
   ]
  },
  {
   "cell_type": "markdown",
   "metadata": {},
   "source": [
    "### Logistic regression"
   ]
  },
  {
   "cell_type": "code",
   "execution_count": 42,
   "metadata": {},
   "outputs": [
    {
     "name": "stdout",
     "output_type": "stream",
     "text": [
      "# Tuning hyper-parameters for precision\n",
      "\n",
      "Best parameters set found on development set:\n",
      "\n",
      "{'C': 1.0}\n",
      "\n",
      "Grid scores on development set:\n",
      "\n",
      "0.826 (+/-0.073) for {'C': 0.1}\n",
      "0.827 (+/-0.077) for {'C': 1.0}\n",
      "0.825 (+/-0.086) for {'C': 10}\n",
      "\n",
      "Detailed classification report:\n",
      "\n",
      "The model is trained on the full development set.\n",
      "The scores are computed on the full evaluation set.\n",
      "\n",
      "             precision    recall  f1-score   support\n",
      "\n",
      "          0       0.82      0.88      0.85       137\n",
      "          1       0.81      0.73      0.77        99\n",
      "\n",
      "avg / total       0.81      0.81      0.81       236\n",
      "\n",
      "\n",
      "# Tuning hyper-parameters for recall\n",
      "\n",
      "Best parameters set found on development set:\n",
      "\n",
      "{'C': 1.0}\n",
      "\n",
      "Grid scores on development set:\n",
      "\n",
      "0.821 (+/-0.067) for {'C': 0.1}\n",
      "0.825 (+/-0.076) for {'C': 1.0}\n",
      "0.823 (+/-0.082) for {'C': 10}\n",
      "\n",
      "Detailed classification report:\n",
      "\n",
      "The model is trained on the full development set.\n",
      "The scores are computed on the full evaluation set.\n",
      "\n",
      "             precision    recall  f1-score   support\n",
      "\n",
      "          0       0.82      0.88      0.85       137\n",
      "          1       0.81      0.73      0.77        99\n",
      "\n",
      "avg / total       0.81      0.81      0.81       236\n",
      "\n",
      "\n"
     ]
    }
   ],
   "source": [
    "from sklearn.linear_model import LogisticRegression\n",
    "from sklearn.model_selection import GridSearchCV\n",
    "from sklearn.preprocessing import StandardScaler\n",
    "\n",
    "scaler = StandardScaler().fit(X_train)\n",
    "X_train_transformed = scaler.transform(X_train)\n",
    "X_test_transformed = scaler.transform(X_test)\n",
    "\n",
    "tuned_parameters = {'C': [0.1, 1.0, 10]}\n",
    "scores = ['precision', 'recall']\n",
    "\n",
    "for score in scores:\n",
    "    print(\"# Tuning hyper-parameters for %s\" % score)\n",
    "    print\n",
    "\n",
    "    clf = GridSearchCV(LogisticRegression(), tuned_parameters, cv=5,\n",
    "                       scoring='%s_macro' % score, n_jobs=-1)\n",
    "    clf.fit(X_train_transformed, y_train)\n",
    "\n",
    "    print(\"Best parameters set found on development set:\")\n",
    "    print\n",
    "    print(clf.best_params_)\n",
    "    print\n",
    "    print(\"Grid scores on development set:\")\n",
    "    print\n",
    "    means = clf.cv_results_['mean_test_score']\n",
    "    stds = clf.cv_results_['std_test_score']\n",
    "    for mean, std, params in zip(means, stds, clf.cv_results_['params']):\n",
    "        print(\"%0.3f (+/-%0.03f) for %r\"\n",
    "              % (mean, std * 2, params))\n",
    "    print\n",
    "\n",
    "    print(\"Detailed classification report:\")\n",
    "    print\n",
    "    print(\"The model is trained on the full development set.\")\n",
    "    print(\"The scores are computed on the full evaluation set.\")\n",
    "    print\n",
    "    y_true, y_pred = y_test, clf.predict(X_test_transformed)\n",
    "    print(classification_report(y_true, y_pred))\n",
    "    print\n"
   ]
  },
  {
   "cell_type": "markdown",
   "metadata": {},
   "source": [
    "### Support vector machine"
   ]
  },
  {
   "cell_type": "code",
   "execution_count": 34,
   "metadata": {
    "scrolled": false
   },
   "outputs": [
    {
     "name": "stdout",
     "output_type": "stream",
     "text": [
      "# Tuning hyper-parameters for precision\n",
      "\n",
      "Best parameters set found on development set:\n",
      "\n",
      "{'kernel': 'linear', 'C': 100.0}\n",
      "\n",
      "Grid scores on development set:\n",
      "\n",
      "0.813 (+/-0.079) for {'kernel': 'linear', 'C': 10.0}\n",
      "0.825 (+/-0.092) for {'kernel': 'linear', 'C': 100.0}\n",
      "0.814 (+/-0.080) for {'kernel': 'linear', 'C': 1000.0}\n",
      "0.809 (+/-0.088) for {'kernel': 'linear', 'C': 5000.0}\n",
      "0.694 (+/-0.051) for {'kernel': 'rbf', 'C': 10.0, 'gamma': 0.0001}\n",
      "0.771 (+/-0.089) for {'kernel': 'rbf', 'C': 10.0, 'gamma': 0.001}\n",
      "0.746 (+/-0.118) for {'kernel': 'rbf', 'C': 10.0, 'gamma': 0.01}\n",
      "0.702 (+/-0.128) for {'kernel': 'rbf', 'C': 10.0, 'gamma': 0.1}\n",
      "0.785 (+/-0.090) for {'kernel': 'rbf', 'C': 100.0, 'gamma': 0.0001}\n",
      "0.775 (+/-0.073) for {'kernel': 'rbf', 'C': 100.0, 'gamma': 0.001}\n",
      "0.731 (+/-0.119) for {'kernel': 'rbf', 'C': 100.0, 'gamma': 0.01}\n",
      "0.664 (+/-0.112) for {'kernel': 'rbf', 'C': 100.0, 'gamma': 0.1}\n",
      "0.816 (+/-0.094) for {'kernel': 'rbf', 'C': 1000.0, 'gamma': 0.0001}\n",
      "0.802 (+/-0.073) for {'kernel': 'rbf', 'C': 1000.0, 'gamma': 0.001}\n",
      "0.717 (+/-0.098) for {'kernel': 'rbf', 'C': 1000.0, 'gamma': 0.01}\n",
      "0.638 (+/-0.114) for {'kernel': 'rbf', 'C': 1000.0, 'gamma': 0.1}\n",
      "0.806 (+/-0.072) for {'kernel': 'rbf', 'C': 5000.0, 'gamma': 0.0001}\n",
      "0.792 (+/-0.086) for {'kernel': 'rbf', 'C': 5000.0, 'gamma': 0.001}\n",
      "0.694 (+/-0.094) for {'kernel': 'rbf', 'C': 5000.0, 'gamma': 0.01}\n",
      "0.647 (+/-0.084) for {'kernel': 'rbf', 'C': 5000.0, 'gamma': 0.1}\n",
      "\n",
      "Detailed classification report:\n",
      "\n",
      "The model is trained on the full development set.\n",
      "The scores are computed on the full evaluation set.\n",
      "\n",
      "             precision    recall  f1-score   support\n",
      "\n",
      "          0       0.81      0.88      0.85       137\n",
      "          1       0.82      0.72      0.76        99\n",
      "\n",
      "avg / total       0.81      0.81      0.81       236\n",
      "\n",
      "\n",
      "# Tuning hyper-parameters for recall\n",
      "\n",
      "Best parameters set found on development set:\n",
      "\n",
      "{'kernel': 'linear', 'C': 100.0}\n",
      "\n",
      "Grid scores on development set:\n",
      "\n",
      "0.806 (+/-0.077) for {'kernel': 'linear', 'C': 10.0}\n",
      "0.815 (+/-0.090) for {'kernel': 'linear', 'C': 100.0}\n",
      "0.811 (+/-0.074) for {'kernel': 'linear', 'C': 1000.0}\n",
      "0.806 (+/-0.083) for {'kernel': 'linear', 'C': 5000.0}\n",
      "0.659 (+/-0.047) for {'kernel': 'rbf', 'C': 10.0, 'gamma': 0.0001}\n",
      "0.770 (+/-0.087) for {'kernel': 'rbf', 'C': 10.0, 'gamma': 0.001}\n",
      "0.743 (+/-0.126) for {'kernel': 'rbf', 'C': 10.0, 'gamma': 0.01}\n",
      "0.692 (+/-0.145) for {'kernel': 'rbf', 'C': 10.0, 'gamma': 0.1}\n",
      "0.781 (+/-0.095) for {'kernel': 'rbf', 'C': 100.0, 'gamma': 0.0001}\n",
      "0.770 (+/-0.069) for {'kernel': 'rbf', 'C': 100.0, 'gamma': 0.001}\n",
      "0.725 (+/-0.124) for {'kernel': 'rbf', 'C': 100.0, 'gamma': 0.01}\n",
      "0.653 (+/-0.125) for {'kernel': 'rbf', 'C': 100.0, 'gamma': 0.1}\n",
      "0.806 (+/-0.093) for {'kernel': 'rbf', 'C': 1000.0, 'gamma': 0.0001}\n",
      "0.792 (+/-0.075) for {'kernel': 'rbf', 'C': 1000.0, 'gamma': 0.001}\n",
      "0.705 (+/-0.090) for {'kernel': 'rbf', 'C': 1000.0, 'gamma': 0.01}\n",
      "0.630 (+/-0.128) for {'kernel': 'rbf', 'C': 1000.0, 'gamma': 0.1}\n",
      "0.800 (+/-0.066) for {'kernel': 'rbf', 'C': 5000.0, 'gamma': 0.0001}\n",
      "0.782 (+/-0.086) for {'kernel': 'rbf', 'C': 5000.0, 'gamma': 0.001}\n",
      "0.687 (+/-0.088) for {'kernel': 'rbf', 'C': 5000.0, 'gamma': 0.01}\n",
      "0.632 (+/-0.111) for {'kernel': 'rbf', 'C': 5000.0, 'gamma': 0.1}\n",
      "\n",
      "Detailed classification report:\n",
      "\n",
      "The model is trained on the full development set.\n",
      "The scores are computed on the full evaluation set.\n",
      "\n",
      "             precision    recall  f1-score   support\n",
      "\n",
      "          0       0.81      0.88      0.85       137\n",
      "          1       0.82      0.72      0.76        99\n",
      "\n",
      "avg / total       0.81      0.81      0.81       236\n",
      "\n",
      "\n"
     ]
    }
   ],
   "source": [
    "from sklearn.svm import SVC\n",
    "from sklearn.model_selection import GridSearchCV\n",
    "from sklearn.metrics import classification_report\n",
    "\n",
    "\n",
    "C = [1e1, 1e2, 1e3, 5e3]\n",
    "gamma = [0.0001, 0.001, 0.01, 0.1]\n",
    "tuned_parameters = [{'kernel':['linear'], 'C': C}, {'kernel':['rbf'], 'C':C, 'gamma': gamma }]\n",
    "\n",
    "scores = ['precision', 'recall']\n",
    "\n",
    "for score in scores:\n",
    "    print(\"# Tuning hyper-parameters for %s\" % score)\n",
    "    print\n",
    "\n",
    "    clf = GridSearchCV(SVC(), tuned_parameters, cv=5,\n",
    "                       scoring='%s_macro' % score, n_jobs=-1)\n",
    "    clf.fit(X_train, y_train)\n",
    "\n",
    "    print(\"Best parameters set found on development set:\")\n",
    "    print\n",
    "    print(clf.best_params_)\n",
    "    print\n",
    "    print(\"Grid scores on development set:\")\n",
    "    print\n",
    "    means = clf.cv_results_['mean_test_score']\n",
    "    stds = clf.cv_results_['std_test_score']\n",
    "    for mean, std, params in zip(means, stds, clf.cv_results_['params']):\n",
    "        print(\"%0.3f (+/-%0.03f) for %r\"\n",
    "              % (mean, std * 2, params))\n",
    "    print\n",
    "\n",
    "    print(\"Detailed classification report:\")\n",
    "    print\n",
    "    print(\"The model is trained on the full development set.\")\n",
    "    print(\"The scores are computed on the full evaluation set.\")\n",
    "    print\n",
    "    y_true, y_pred = y_test, clf.predict(X_test)\n",
    "    print(classification_report(y_true, y_pred))\n",
    "    print\n"
   ]
  },
  {
   "cell_type": "markdown",
   "metadata": {},
   "source": [
    "### Random forest"
   ]
  },
  {
   "cell_type": "code",
   "execution_count": 58,
   "metadata": {
    "scrolled": false
   },
   "outputs": [
    {
     "name": "stdout",
     "output_type": "stream",
     "text": [
      "# Tuning hyper-parameters for precision\n",
      "\n",
      "Best parameters set found on development set:\n",
      "\n",
      "{'max_features': 10, 'bootstrap': False, 'criterion': 'gini', 'max_depth': None, 'min_samples_leaf': 10}\n",
      "\n",
      "Grid scores on development set:\n",
      "\n",
      "0.815 (+/-0.084) for {'max_features': 1, 'bootstrap': True, 'criterion': 'gini', 'max_depth': 3, 'min_samples_leaf': 1}\n",
      "0.815 (+/-0.078) for {'max_features': 1, 'bootstrap': True, 'criterion': 'gini', 'max_depth': 3, 'min_samples_leaf': 3}\n",
      "0.817 (+/-0.094) for {'max_features': 1, 'bootstrap': True, 'criterion': 'gini', 'max_depth': 3, 'min_samples_leaf': 10}\n",
      "0.794 (+/-0.094) for {'max_features': 3, 'bootstrap': True, 'criterion': 'gini', 'max_depth': 3, 'min_samples_leaf': 1}\n",
      "0.794 (+/-0.087) for {'max_features': 3, 'bootstrap': True, 'criterion': 'gini', 'max_depth': 3, 'min_samples_leaf': 3}\n",
      "0.797 (+/-0.052) for {'max_features': 3, 'bootstrap': True, 'criterion': 'gini', 'max_depth': 3, 'min_samples_leaf': 10}\n",
      "0.829 (+/-0.080) for {'max_features': 10, 'bootstrap': True, 'criterion': 'gini', 'max_depth': 3, 'min_samples_leaf': 1}\n",
      "0.829 (+/-0.080) for {'max_features': 10, 'bootstrap': True, 'criterion': 'gini', 'max_depth': 3, 'min_samples_leaf': 3}\n",
      "0.815 (+/-0.085) for {'max_features': 10, 'bootstrap': True, 'criterion': 'gini', 'max_depth': 3, 'min_samples_leaf': 10}\n",
      "0.787 (+/-0.038) for {'max_features': 1, 'bootstrap': True, 'criterion': 'gini', 'max_depth': None, 'min_samples_leaf': 1}\n",
      "0.829 (+/-0.089) for {'max_features': 1, 'bootstrap': True, 'criterion': 'gini', 'max_depth': None, 'min_samples_leaf': 3}\n",
      "0.800 (+/-0.103) for {'max_features': 1, 'bootstrap': True, 'criterion': 'gini', 'max_depth': None, 'min_samples_leaf': 10}\n",
      "0.794 (+/-0.048) for {'max_features': 3, 'bootstrap': True, 'criterion': 'gini', 'max_depth': None, 'min_samples_leaf': 1}\n",
      "0.817 (+/-0.056) for {'max_features': 3, 'bootstrap': True, 'criterion': 'gini', 'max_depth': None, 'min_samples_leaf': 3}\n",
      "0.788 (+/-0.068) for {'max_features': 3, 'bootstrap': True, 'criterion': 'gini', 'max_depth': None, 'min_samples_leaf': 10}\n",
      "0.794 (+/-0.022) for {'max_features': 10, 'bootstrap': True, 'criterion': 'gini', 'max_depth': None, 'min_samples_leaf': 1}\n",
      "0.823 (+/-0.057) for {'max_features': 10, 'bootstrap': True, 'criterion': 'gini', 'max_depth': None, 'min_samples_leaf': 3}\n",
      "0.840 (+/-0.084) for {'max_features': 10, 'bootstrap': True, 'criterion': 'gini', 'max_depth': None, 'min_samples_leaf': 10}\n",
      "0.825 (+/-0.080) for {'max_features': 1, 'bootstrap': True, 'criterion': 'entropy', 'max_depth': 3, 'min_samples_leaf': 1}\n",
      "0.824 (+/-0.085) for {'max_features': 1, 'bootstrap': True, 'criterion': 'entropy', 'max_depth': 3, 'min_samples_leaf': 3}\n",
      "0.804 (+/-0.082) for {'max_features': 1, 'bootstrap': True, 'criterion': 'entropy', 'max_depth': 3, 'min_samples_leaf': 10}\n",
      "0.790 (+/-0.089) for {'max_features': 3, 'bootstrap': True, 'criterion': 'entropy', 'max_depth': 3, 'min_samples_leaf': 1}\n",
      "0.794 (+/-0.087) for {'max_features': 3, 'bootstrap': True, 'criterion': 'entropy', 'max_depth': 3, 'min_samples_leaf': 3}\n",
      "0.788 (+/-0.077) for {'max_features': 3, 'bootstrap': True, 'criterion': 'entropy', 'max_depth': 3, 'min_samples_leaf': 10}\n",
      "0.824 (+/-0.083) for {'max_features': 10, 'bootstrap': True, 'criterion': 'entropy', 'max_depth': 3, 'min_samples_leaf': 1}\n",
      "0.828 (+/-0.079) for {'max_features': 10, 'bootstrap': True, 'criterion': 'entropy', 'max_depth': 3, 'min_samples_leaf': 3}\n",
      "0.824 (+/-0.071) for {'max_features': 10, 'bootstrap': True, 'criterion': 'entropy', 'max_depth': 3, 'min_samples_leaf': 10}\n",
      "0.797 (+/-0.052) for {'max_features': 1, 'bootstrap': True, 'criterion': 'entropy', 'max_depth': None, 'min_samples_leaf': 1}\n",
      "0.829 (+/-0.085) for {'max_features': 1, 'bootstrap': True, 'criterion': 'entropy', 'max_depth': None, 'min_samples_leaf': 3}\n",
      "0.790 (+/-0.087) for {'max_features': 1, 'bootstrap': True, 'criterion': 'entropy', 'max_depth': None, 'min_samples_leaf': 10}\n",
      "0.788 (+/-0.050) for {'max_features': 3, 'bootstrap': True, 'criterion': 'entropy', 'max_depth': None, 'min_samples_leaf': 1}\n",
      "0.830 (+/-0.064) for {'max_features': 3, 'bootstrap': True, 'criterion': 'entropy', 'max_depth': None, 'min_samples_leaf': 3}\n",
      "0.792 (+/-0.072) for {'max_features': 3, 'bootstrap': True, 'criterion': 'entropy', 'max_depth': None, 'min_samples_leaf': 10}\n",
      "0.802 (+/-0.030) for {'max_features': 10, 'bootstrap': True, 'criterion': 'entropy', 'max_depth': None, 'min_samples_leaf': 1}\n",
      "0.831 (+/-0.054) for {'max_features': 10, 'bootstrap': True, 'criterion': 'entropy', 'max_depth': None, 'min_samples_leaf': 3}\n",
      "0.841 (+/-0.072) for {'max_features': 10, 'bootstrap': True, 'criterion': 'entropy', 'max_depth': None, 'min_samples_leaf': 10}\n",
      "0.810 (+/-0.090) for {'max_features': 1, 'bootstrap': False, 'criterion': 'gini', 'max_depth': 3, 'min_samples_leaf': 1}\n",
      "0.812 (+/-0.104) for {'max_features': 1, 'bootstrap': False, 'criterion': 'gini', 'max_depth': 3, 'min_samples_leaf': 3}\n",
      "0.809 (+/-0.106) for {'max_features': 1, 'bootstrap': False, 'criterion': 'gini', 'max_depth': 3, 'min_samples_leaf': 10}\n",
      "0.795 (+/-0.094) for {'max_features': 3, 'bootstrap': False, 'criterion': 'gini', 'max_depth': 3, 'min_samples_leaf': 1}\n",
      "0.795 (+/-0.094) for {'max_features': 3, 'bootstrap': False, 'criterion': 'gini', 'max_depth': 3, 'min_samples_leaf': 3}\n",
      "0.795 (+/-0.076) for {'max_features': 3, 'bootstrap': False, 'criterion': 'gini', 'max_depth': 3, 'min_samples_leaf': 10}\n",
      "0.832 (+/-0.083) for {'max_features': 10, 'bootstrap': False, 'criterion': 'gini', 'max_depth': 3, 'min_samples_leaf': 1}\n",
      "0.830 (+/-0.089) for {'max_features': 10, 'bootstrap': False, 'criterion': 'gini', 'max_depth': 3, 'min_samples_leaf': 3}\n",
      "0.828 (+/-0.090) for {'max_features': 10, 'bootstrap': False, 'criterion': 'gini', 'max_depth': 3, 'min_samples_leaf': 10}\n",
      "0.775 (+/-0.022) for {'max_features': 1, 'bootstrap': False, 'criterion': 'gini', 'max_depth': None, 'min_samples_leaf': 1}\n",
      "0.821 (+/-0.045) for {'max_features': 1, 'bootstrap': False, 'criterion': 'gini', 'max_depth': None, 'min_samples_leaf': 3}\n",
      "0.802 (+/-0.056) for {'max_features': 1, 'bootstrap': False, 'criterion': 'gini', 'max_depth': None, 'min_samples_leaf': 10}\n",
      "0.779 (+/-0.046) for {'max_features': 3, 'bootstrap': False, 'criterion': 'gini', 'max_depth': None, 'min_samples_leaf': 1}\n",
      "0.820 (+/-0.033) for {'max_features': 3, 'bootstrap': False, 'criterion': 'gini', 'max_depth': None, 'min_samples_leaf': 3}\n",
      "0.799 (+/-0.093) for {'max_features': 3, 'bootstrap': False, 'criterion': 'gini', 'max_depth': None, 'min_samples_leaf': 10}\n",
      "0.777 (+/-0.055) for {'max_features': 10, 'bootstrap': False, 'criterion': 'gini', 'max_depth': None, 'min_samples_leaf': 1}\n",
      "0.811 (+/-0.061) for {'max_features': 10, 'bootstrap': False, 'criterion': 'gini', 'max_depth': None, 'min_samples_leaf': 3}\n",
      "0.843 (+/-0.078) for {'max_features': 10, 'bootstrap': False, 'criterion': 'gini', 'max_depth': None, 'min_samples_leaf': 10}\n",
      "0.805 (+/-0.080) for {'max_features': 1, 'bootstrap': False, 'criterion': 'entropy', 'max_depth': 3, 'min_samples_leaf': 1}\n",
      "0.807 (+/-0.091) for {'max_features': 1, 'bootstrap': False, 'criterion': 'entropy', 'max_depth': 3, 'min_samples_leaf': 3}\n",
      "0.804 (+/-0.101) for {'max_features': 1, 'bootstrap': False, 'criterion': 'entropy', 'max_depth': 3, 'min_samples_leaf': 10}\n",
      "0.797 (+/-0.093) for {'max_features': 3, 'bootstrap': False, 'criterion': 'entropy', 'max_depth': 3, 'min_samples_leaf': 1}\n",
      "0.799 (+/-0.098) for {'max_features': 3, 'bootstrap': False, 'criterion': 'entropy', 'max_depth': 3, 'min_samples_leaf': 3}\n",
      "0.796 (+/-0.075) for {'max_features': 3, 'bootstrap': False, 'criterion': 'entropy', 'max_depth': 3, 'min_samples_leaf': 10}\n",
      "0.832 (+/-0.083) for {'max_features': 10, 'bootstrap': False, 'criterion': 'entropy', 'max_depth': 3, 'min_samples_leaf': 1}\n",
      "0.830 (+/-0.089) for {'max_features': 10, 'bootstrap': False, 'criterion': 'entropy', 'max_depth': 3, 'min_samples_leaf': 3}\n",
      "0.826 (+/-0.088) for {'max_features': 10, 'bootstrap': False, 'criterion': 'entropy', 'max_depth': 3, 'min_samples_leaf': 10}\n",
      "0.764 (+/-0.046) for {'max_features': 1, 'bootstrap': False, 'criterion': 'entropy', 'max_depth': None, 'min_samples_leaf': 1}\n",
      "0.835 (+/-0.055) for {'max_features': 1, 'bootstrap': False, 'criterion': 'entropy', 'max_depth': None, 'min_samples_leaf': 3}\n",
      "0.797 (+/-0.089) for {'max_features': 1, 'bootstrap': False, 'criterion': 'entropy', 'max_depth': None, 'min_samples_leaf': 10}\n",
      "0.779 (+/-0.049) for {'max_features': 3, 'bootstrap': False, 'criterion': 'entropy', 'max_depth': None, 'min_samples_leaf': 1}\n",
      "0.832 (+/-0.045) for {'max_features': 3, 'bootstrap': False, 'criterion': 'entropy', 'max_depth': None, 'min_samples_leaf': 3}\n",
      "0.806 (+/-0.094) for {'max_features': 3, 'bootstrap': False, 'criterion': 'entropy', 'max_depth': None, 'min_samples_leaf': 10}\n",
      "0.773 (+/-0.048) for {'max_features': 10, 'bootstrap': False, 'criterion': 'entropy', 'max_depth': None, 'min_samples_leaf': 1}\n",
      "0.812 (+/-0.057) for {'max_features': 10, 'bootstrap': False, 'criterion': 'entropy', 'max_depth': None, 'min_samples_leaf': 3}\n",
      "0.841 (+/-0.067) for {'max_features': 10, 'bootstrap': False, 'criterion': 'entropy', 'max_depth': None, 'min_samples_leaf': 10}\n",
      "\n",
      "Detailed classification report:\n",
      "\n",
      "The model is trained on the full development set.\n",
      "The scores are computed on the full evaluation set.\n",
      "\n",
      "             precision    recall  f1-score   support\n",
      "\n",
      "          0       0.80      0.89      0.84       137\n",
      "          1       0.82      0.70      0.75        99\n",
      "\n",
      "avg / total       0.81      0.81      0.81       236\n",
      "\n",
      "\n",
      "# Tuning hyper-parameters for recall\n",
      "\n"
     ]
    },
    {
     "name": "stdout",
     "output_type": "stream",
     "text": [
      "Best parameters set found on development set:\n",
      "\n",
      "{'max_features': 10, 'bootstrap': False, 'criterion': 'gini', 'max_depth': 3, 'min_samples_leaf': 1}\n",
      "\n",
      "Grid scores on development set:\n",
      "\n",
      "0.785 (+/-0.073) for {'max_features': 1, 'bootstrap': True, 'criterion': 'gini', 'max_depth': 3, 'min_samples_leaf': 1}\n",
      "0.785 (+/-0.072) for {'max_features': 1, 'bootstrap': True, 'criterion': 'gini', 'max_depth': 3, 'min_samples_leaf': 3}\n",
      "0.785 (+/-0.065) for {'max_features': 1, 'bootstrap': True, 'criterion': 'gini', 'max_depth': 3, 'min_samples_leaf': 10}\n",
      "0.789 (+/-0.092) for {'max_features': 3, 'bootstrap': True, 'criterion': 'gini', 'max_depth': 3, 'min_samples_leaf': 1}\n",
      "0.790 (+/-0.084) for {'max_features': 3, 'bootstrap': True, 'criterion': 'gini', 'max_depth': 3, 'min_samples_leaf': 3}\n",
      "0.792 (+/-0.055) for {'max_features': 3, 'bootstrap': True, 'criterion': 'gini', 'max_depth': 3, 'min_samples_leaf': 10}\n",
      "0.815 (+/-0.078) for {'max_features': 10, 'bootstrap': True, 'criterion': 'gini', 'max_depth': 3, 'min_samples_leaf': 1}\n",
      "0.815 (+/-0.078) for {'max_features': 10, 'bootstrap': True, 'criterion': 'gini', 'max_depth': 3, 'min_samples_leaf': 3}\n",
      "0.802 (+/-0.087) for {'max_features': 10, 'bootstrap': True, 'criterion': 'gini', 'max_depth': 3, 'min_samples_leaf': 10}\n",
      "0.779 (+/-0.050) for {'max_features': 1, 'bootstrap': True, 'criterion': 'gini', 'max_depth': None, 'min_samples_leaf': 1}\n",
      "0.806 (+/-0.078) for {'max_features': 1, 'bootstrap': True, 'criterion': 'gini', 'max_depth': None, 'min_samples_leaf': 3}\n",
      "0.783 (+/-0.082) for {'max_features': 1, 'bootstrap': True, 'criterion': 'gini', 'max_depth': None, 'min_samples_leaf': 10}\n",
      "0.783 (+/-0.052) for {'max_features': 3, 'bootstrap': True, 'criterion': 'gini', 'max_depth': None, 'min_samples_leaf': 1}\n",
      "0.795 (+/-0.049) for {'max_features': 3, 'bootstrap': True, 'criterion': 'gini', 'max_depth': None, 'min_samples_leaf': 3}\n",
      "0.784 (+/-0.069) for {'max_features': 3, 'bootstrap': True, 'criterion': 'gini', 'max_depth': None, 'min_samples_leaf': 10}\n",
      "0.784 (+/-0.035) for {'max_features': 10, 'bootstrap': True, 'criterion': 'gini', 'max_depth': None, 'min_samples_leaf': 1}\n",
      "0.799 (+/-0.064) for {'max_features': 10, 'bootstrap': True, 'criterion': 'gini', 'max_depth': None, 'min_samples_leaf': 3}\n",
      "0.806 (+/-0.080) for {'max_features': 10, 'bootstrap': True, 'criterion': 'gini', 'max_depth': None, 'min_samples_leaf': 10}\n",
      "0.798 (+/-0.066) for {'max_features': 1, 'bootstrap': True, 'criterion': 'entropy', 'max_depth': 3, 'min_samples_leaf': 1}\n",
      "0.794 (+/-0.075) for {'max_features': 1, 'bootstrap': True, 'criterion': 'entropy', 'max_depth': 3, 'min_samples_leaf': 3}\n",
      "0.779 (+/-0.056) for {'max_features': 1, 'bootstrap': True, 'criterion': 'entropy', 'max_depth': 3, 'min_samples_leaf': 10}\n",
      "0.785 (+/-0.088) for {'max_features': 3, 'bootstrap': True, 'criterion': 'entropy', 'max_depth': 3, 'min_samples_leaf': 1}\n",
      "0.790 (+/-0.086) for {'max_features': 3, 'bootstrap': True, 'criterion': 'entropy', 'max_depth': 3, 'min_samples_leaf': 3}\n",
      "0.783 (+/-0.079) for {'max_features': 3, 'bootstrap': True, 'criterion': 'entropy', 'max_depth': 3, 'min_samples_leaf': 10}\n",
      "0.811 (+/-0.085) for {'max_features': 10, 'bootstrap': True, 'criterion': 'entropy', 'max_depth': 3, 'min_samples_leaf': 1}\n",
      "0.816 (+/-0.079) for {'max_features': 10, 'bootstrap': True, 'criterion': 'entropy', 'max_depth': 3, 'min_samples_leaf': 3}\n",
      "0.806 (+/-0.074) for {'max_features': 10, 'bootstrap': True, 'criterion': 'entropy', 'max_depth': 3, 'min_samples_leaf': 10}\n",
      "0.792 (+/-0.050) for {'max_features': 1, 'bootstrap': True, 'criterion': 'entropy', 'max_depth': None, 'min_samples_leaf': 1}\n",
      "0.806 (+/-0.074) for {'max_features': 1, 'bootstrap': True, 'criterion': 'entropy', 'max_depth': None, 'min_samples_leaf': 3}\n",
      "0.771 (+/-0.061) for {'max_features': 1, 'bootstrap': True, 'criterion': 'entropy', 'max_depth': None, 'min_samples_leaf': 10}\n",
      "0.778 (+/-0.054) for {'max_features': 3, 'bootstrap': True, 'criterion': 'entropy', 'max_depth': None, 'min_samples_leaf': 1}\n",
      "0.805 (+/-0.061) for {'max_features': 3, 'bootstrap': True, 'criterion': 'entropy', 'max_depth': None, 'min_samples_leaf': 3}\n",
      "0.787 (+/-0.074) for {'max_features': 3, 'bootstrap': True, 'criterion': 'entropy', 'max_depth': None, 'min_samples_leaf': 10}\n",
      "0.788 (+/-0.030) for {'max_features': 10, 'bootstrap': True, 'criterion': 'entropy', 'max_depth': None, 'min_samples_leaf': 1}\n",
      "0.813 (+/-0.053) for {'max_features': 10, 'bootstrap': True, 'criterion': 'entropy', 'max_depth': None, 'min_samples_leaf': 3}\n",
      "0.809 (+/-0.088) for {'max_features': 10, 'bootstrap': True, 'criterion': 'entropy', 'max_depth': None, 'min_samples_leaf': 10}\n",
      "0.789 (+/-0.079) for {'max_features': 1, 'bootstrap': False, 'criterion': 'gini', 'max_depth': 3, 'min_samples_leaf': 1}\n",
      "0.788 (+/-0.085) for {'max_features': 1, 'bootstrap': False, 'criterion': 'gini', 'max_depth': 3, 'min_samples_leaf': 3}\n",
      "0.790 (+/-0.102) for {'max_features': 1, 'bootstrap': False, 'criterion': 'gini', 'max_depth': 3, 'min_samples_leaf': 10}\n",
      "0.787 (+/-0.095) for {'max_features': 3, 'bootstrap': False, 'criterion': 'gini', 'max_depth': 3, 'min_samples_leaf': 1}\n",
      "0.787 (+/-0.095) for {'max_features': 3, 'bootstrap': False, 'criterion': 'gini', 'max_depth': 3, 'min_samples_leaf': 3}\n",
      "0.789 (+/-0.075) for {'max_features': 3, 'bootstrap': False, 'criterion': 'gini', 'max_depth': 3, 'min_samples_leaf': 10}\n",
      "0.821 (+/-0.079) for {'max_features': 10, 'bootstrap': False, 'criterion': 'gini', 'max_depth': 3, 'min_samples_leaf': 1}\n",
      "0.819 (+/-0.088) for {'max_features': 10, 'bootstrap': False, 'criterion': 'gini', 'max_depth': 3, 'min_samples_leaf': 3}\n",
      "0.816 (+/-0.088) for {'max_features': 10, 'bootstrap': False, 'criterion': 'gini', 'max_depth': 3, 'min_samples_leaf': 10}\n",
      "0.773 (+/-0.027) for {'max_features': 1, 'bootstrap': False, 'criterion': 'gini', 'max_depth': None, 'min_samples_leaf': 1}\n",
      "0.800 (+/-0.051) for {'max_features': 1, 'bootstrap': False, 'criterion': 'gini', 'max_depth': None, 'min_samples_leaf': 3}\n",
      "0.789 (+/-0.067) for {'max_features': 1, 'bootstrap': False, 'criterion': 'gini', 'max_depth': None, 'min_samples_leaf': 10}\n",
      "0.774 (+/-0.038) for {'max_features': 3, 'bootstrap': False, 'criterion': 'gini', 'max_depth': None, 'min_samples_leaf': 1}\n",
      "0.797 (+/-0.035) for {'max_features': 3, 'bootstrap': False, 'criterion': 'gini', 'max_depth': None, 'min_samples_leaf': 3}\n",
      "0.788 (+/-0.100) for {'max_features': 3, 'bootstrap': False, 'criterion': 'gini', 'max_depth': None, 'min_samples_leaf': 10}\n",
      "0.772 (+/-0.055) for {'max_features': 10, 'bootstrap': False, 'criterion': 'gini', 'max_depth': None, 'min_samples_leaf': 1}\n",
      "0.797 (+/-0.074) for {'max_features': 10, 'bootstrap': False, 'criterion': 'gini', 'max_depth': None, 'min_samples_leaf': 3}\n",
      "0.819 (+/-0.077) for {'max_features': 10, 'bootstrap': False, 'criterion': 'gini', 'max_depth': None, 'min_samples_leaf': 10}\n",
      "0.785 (+/-0.074) for {'max_features': 1, 'bootstrap': False, 'criterion': 'entropy', 'max_depth': 3, 'min_samples_leaf': 1}\n",
      "0.784 (+/-0.080) for {'max_features': 1, 'bootstrap': False, 'criterion': 'entropy', 'max_depth': 3, 'min_samples_leaf': 3}\n",
      "0.782 (+/-0.087) for {'max_features': 1, 'bootstrap': False, 'criterion': 'entropy', 'max_depth': 3, 'min_samples_leaf': 10}\n",
      "0.790 (+/-0.094) for {'max_features': 3, 'bootstrap': False, 'criterion': 'entropy', 'max_depth': 3, 'min_samples_leaf': 1}\n",
      "0.792 (+/-0.102) for {'max_features': 3, 'bootstrap': False, 'criterion': 'entropy', 'max_depth': 3, 'min_samples_leaf': 3}\n",
      "0.788 (+/-0.077) for {'max_features': 3, 'bootstrap': False, 'criterion': 'entropy', 'max_depth': 3, 'min_samples_leaf': 10}\n",
      "0.821 (+/-0.079) for {'max_features': 10, 'bootstrap': False, 'criterion': 'entropy', 'max_depth': 3, 'min_samples_leaf': 1}\n",
      "0.819 (+/-0.088) for {'max_features': 10, 'bootstrap': False, 'criterion': 'entropy', 'max_depth': 3, 'min_samples_leaf': 3}\n",
      "0.813 (+/-0.084) for {'max_features': 10, 'bootstrap': False, 'criterion': 'entropy', 'max_depth': 3, 'min_samples_leaf': 10}\n",
      "0.762 (+/-0.046) for {'max_features': 1, 'bootstrap': False, 'criterion': 'entropy', 'max_depth': None, 'min_samples_leaf': 1}\n",
      "0.809 (+/-0.051) for {'max_features': 1, 'bootstrap': False, 'criterion': 'entropy', 'max_depth': None, 'min_samples_leaf': 3}\n",
      "0.785 (+/-0.087) for {'max_features': 1, 'bootstrap': False, 'criterion': 'entropy', 'max_depth': None, 'min_samples_leaf': 10}\n",
      "0.776 (+/-0.052) for {'max_features': 3, 'bootstrap': False, 'criterion': 'entropy', 'max_depth': None, 'min_samples_leaf': 1}\n",
      "0.807 (+/-0.050) for {'max_features': 3, 'bootstrap': False, 'criterion': 'entropy', 'max_depth': None, 'min_samples_leaf': 3}\n",
      "0.794 (+/-0.098) for {'max_features': 3, 'bootstrap': False, 'criterion': 'entropy', 'max_depth': None, 'min_samples_leaf': 10}\n",
      "0.770 (+/-0.047) for {'max_features': 10, 'bootstrap': False, 'criterion': 'entropy', 'max_depth': None, 'min_samples_leaf': 1}\n",
      "0.800 (+/-0.070) for {'max_features': 10, 'bootstrap': False, 'criterion': 'entropy', 'max_depth': None, 'min_samples_leaf': 3}\n",
      "0.817 (+/-0.064) for {'max_features': 10, 'bootstrap': False, 'criterion': 'entropy', 'max_depth': None, 'min_samples_leaf': 10}\n",
      "\n",
      "Detailed classification report:\n",
      "\n",
      "The model is trained on the full development set.\n",
      "The scores are computed on the full evaluation set.\n",
      "\n",
      "             precision    recall  f1-score   support\n",
      "\n",
      "          0       0.81      0.88      0.84       137\n",
      "          1       0.81      0.72      0.76        99\n",
      "\n",
      "avg / total       0.81      0.81      0.81       236\n",
      "\n",
      "\n"
     ]
    }
   ],
   "source": [
    "from sklearn.ensemble import RandomForestClassifier\n",
    "from operator import itemgetter\n",
    "\n",
    "        \n",
    "# build a classifier\n",
    "clf_RF = RandomForestClassifier(n_estimators=20, random_state=0)\n",
    "\n",
    "# use a full grid over all parameters\n",
    "param_grid = {\"max_depth\": [3, None],\n",
    "              \"max_features\": [1, 3, 10],\n",
    "              \"min_samples_leaf\": [1, 3, 10],\n",
    "              \"bootstrap\": [True, False],\n",
    "              \"criterion\": [\"gini\", \"entropy\"]}\n",
    "\n",
    "\n",
    "scores = ['precision', 'recall']\n",
    "\n",
    "for score in scores:\n",
    "    print(\"# Tuning hyper-parameters for %s\" % score)\n",
    "    print\n",
    "\n",
    "    clf = GridSearchCV(clf_RF, param_grid=param_grid, cv=5,\n",
    "                       scoring='%s_macro' % score, n_jobs=-1)\n",
    "    clf.fit(X_train, y_train)\n",
    "\n",
    "    print(\"Best parameters set found on development set:\")\n",
    "    print\n",
    "    print(clf.best_params_)\n",
    "    print\n",
    "    print(\"Grid scores on development set:\")\n",
    "    print\n",
    "    means = clf.cv_results_['mean_test_score']\n",
    "    stds = clf.cv_results_['std_test_score']\n",
    "    for mean, std, params in zip(means, stds, clf.cv_results_['params']):\n",
    "        print(\"%0.3f (+/-%0.03f) for %r\"\n",
    "              % (mean, std * 2, params))\n",
    "    print\n",
    "\n",
    "    print(\"Detailed classification report:\")\n",
    "    print\n",
    "    print(\"The model is trained on the full development set.\")\n",
    "    print(\"The scores are computed on the full evaluation set.\")\n",
    "    print\n",
    "    y_true, y_pred = y_test, clf.predict(X_test)\n",
    "    print(classification_report(y_true, y_pred))\n",
    "    print"
   ]
  },
  {
   "cell_type": "markdown",
   "metadata": {},
   "source": [
    "### Feature importance"
   ]
  },
  {
   "cell_type": "code",
   "execution_count": 64,
   "metadata": {},
   "outputs": [
    {
     "name": "stdout",
     "output_type": "stream",
     "text": [
      "Feature ranking:\n",
      "1. feature Mr (0.380146)\n",
      "2. feature Pclass (0.147189)\n",
      "3. feature Age (0.111151)\n",
      "4. feature female (0.105429)\n",
      "5. feature male (0.099424)\n",
      "6. feature Fare (0.065745)\n",
      "7. feature Family_size (0.035633)\n",
      "8. feature cabin_crew (0.015255)\n",
      "9. feature SibSp (0.015099)\n",
      "10. feature Miss (0.009505)\n",
      "11. feature S (0.006036)\n",
      "12. feature Mrs (0.003316)\n",
      "13. feature Master (0.002550)\n",
      "14. feature Parch (0.002098)\n",
      "15. feature C (0.001423)\n",
      "16. feature Q (0.000000)\n"
     ]
    }
   ],
   "source": [
    "# Build a forest and compute the feature importances\n",
    "forest = RandomForestClassifier(n_estimators=250, random_state=0, max_features=10,\n",
    "                                bootstrap=False, criterion='gini', max_depth=None, \n",
    "                                min_samples_leaf=10)\n",
    "\n",
    "forest.fit(X_train, y_train)\n",
    "importances = forest.feature_importances_\n",
    "std = np.std([tree.feature_importances_ for tree in forest.estimators_],\n",
    "             axis=0)\n",
    "indices = np.argsort(importances)[::-1]\n",
    "\n",
    "features = [\"Pclass\", \"Age\", \"SibSp\", \"Parch\", \"Fare\", \"Family_size\", \"cabin_crew\",\n",
    "            \"female\", \"male\", \"C\", \"Q\", \"S\", \"Master\", \"Miss\", \"Mr\", \"Mrs\", ]\n",
    "\n",
    "# Print the feature ranking\n",
    "print \"Feature ranking:\"\n",
    "\n",
    "for f in range(X.shape[1]):\n",
    "    print(\"%d. feature %s (%f)\" % (f + 1, features[indices[f]], importances[indices[f]]))"
   ]
  },
  {
   "cell_type": "code",
   "execution_count": 73,
   "metadata": {},
   "outputs": [
    {
     "data": {
      "text/plain": [
       "(-1, 16)"
      ]
     },
     "execution_count": 73,
     "metadata": {},
     "output_type": "execute_result"
    },
    {
     "data": {
      "image/png": "[encoded data removed]",
      "text/plain": [
       "<matplotlib.figure.Figure at 0x11ef834d0>"
      ]
     },
     "metadata": {
      "image/png": {
       "height": 480,
       "width": 822
      }
     },
     "output_type": "display_data"
    }
   ],
   "source": [
    "# Plot the feature importances of the forest\n",
    "plt.figure(figsize=(14, 8))\n",
    "plt.title(\"Feature importances\")\n",
    "plt.bar(range(X.shape[1]), importances[indices],\n",
    "       color=\"r\", yerr=std[indices], align=\"center\")\n",
    "plt.xticks(range(X.shape[1]), features)\n",
    "plt.xlim([-1, X.shape[1]])"
   ]
  },
  {
   "cell_type": "markdown",
   "metadata": {
    "collapsed": true
   },
   "source": [
    "# Conclusion"
   ]
  },
  {
   "cell_type": "markdown",
   "metadata": {},
   "source": [
    "No matter using which machine learning algorithms (logistic regression, support vector machine, random forest), the average evaluation scores are all the same, which means that I didn't find a best model for this dataset. \n",
    "\n",
    "We can find that the most important features that affact the suvival rate are *Pclass*, *Age*, *SibSp*, *Parch*, and *Fare*. This may indicate that people who are richer or people who have more family members on the boat would have higher chance to survive. However, it is a surpricing that the gender doesn't not play as one of the top important features on the list, since the survival rate between men and women is significant different."
   ]
  },
  {
   "cell_type": "code",
   "execution_count": null,
   "metadata": {
    "collapsed": true
   },
   "outputs": [],
   "source": []
  }
 ],
 "metadata": {
  "kernelspec": {
   "display_name": "Python 2",
   "language": "python",
   "name": "python2"
  },
  "language_info": {
   "codemirror_mode": {
    "name": "ipython",
    "version": 2
   },
   "file_extension": ".py",
   "mimetype": "text/x-python",
   "name": "python",
   "nbconvert_exporter": "python",
   "pygments_lexer": "ipython2",
   "version": "2.7.13"
  }
 },
 "nbformat": 4,
 "nbformat_minor": 2
}
